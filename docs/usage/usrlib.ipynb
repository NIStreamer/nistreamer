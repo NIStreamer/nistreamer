{
 "cells": [
  {
   "cell_type": "markdown",
   "id": "a62c2fbf-2124-4cda-b44b-c9ea9b67ecb1",
   "metadata": {},
   "source": [
    "# Custom Waveforms"
   ]
  },
  {
   "cell_type": "markdown",
   "id": "9ba67e69-67ec-4413-978c-bfbdd296973a",
   "metadata": {},
   "source": [
    "If `std_fn_lib` does not contain the waveforms you need, custom ones can be added through `usr_fn_lib` - the \"user-editable\" library. \n",
    "\n",
    "This requires writing a minimal amount of Rust code and re-compiling the package from source. This tutorial explains how to write the waveform code while {ref}`installation instructions <building-from-source>` provide a step-by-step guide on how to re-compile.\n",
    "\n",
    "Start by following installation instructions. Once you get `nistreamer-usrlib` source code, open `nistreamer-usrlib/src/lib.rs` - this is where we will be writing custom waveforms."
   ]
  },
  {
   "cell_type": "markdown",
   "id": "2e563218-ccdc-4cbd-a7d8-1c4bd36c2df8",
   "metadata": {},
   "source": [
    "## Minimal example"
   ]
  },
  {
   "cell_type": "markdown",
   "id": "264e888b-08bf-4e13-b83c-7e9f9e461820",
   "metadata": {},
   "source": [
    "Consider a simple example - we want to add the following function:  \n",
    "```\n",
    "MyLinFn(t) = slope*t + offs\n",
    "```\n",
    "\n",
    "Time units are always `second` and result units are always `Volt`. So `slope` has units `V/s` and `offs` is in `V`."
   ]
  },
  {
   "cell_type": "markdown",
   "id": "839ab698-f901-46dc-b6f4-1328c5b4e002",
   "metadata": {},
   "source": [
    "This is what should be added in `nistreamer-usrlib/src/lib.rs`:\n",
    "\n",
    "```Rust\n",
    "/// My linear function:\n",
    "///     `MyLinFn(t) = slope*t + offs`\n",
    "#[usr_fn_f64]\n",
    "pub struct MyLinFn {\n",
    "    slope: f64,\n",
    "    offs: f64,\n",
    "}\n",
    "impl Calc<f64> for MyLinFn {\n",
    "    fn calc(&self, t_arr: &[f64], res_arr: &mut[f64]) {\n",
    "        for (res, &t) in res_arr.iter_mut().zip(t_arr.iter()) {\n",
    "            *res = self.slope * t + self.offs\n",
    "        }\n",
    "    }\n",
    "}\n",
    "```"
   ]
  },
  {
   "cell_type": "markdown",
   "id": "0c5df58d-36ff-4f23-b6a1-7c652937ea02",
   "metadata": {},
   "source": [
    ":::{tip}\n",
    "You can use this snippet as a template.\n",
    ":::"
   ]
  },
  {
   "cell_type": "markdown",
   "id": "fc0dd7cb-20e6-45d6-9612-689936aa068a",
   "metadata": {},
   "source": [
    "### Breakdown"
   ]
  },
  {
   "cell_type": "markdown",
   "id": "c4507b05-b0b3-4f24-a8fa-f1f2e7190873",
   "metadata": {},
   "source": [
    "**(1)** Define a struct to contain parameter values:\n",
    "```Rust\n",
    "pub struct MyLinFn {\n",
    "    slope: f64,\n",
    "    offs: f64,\n",
    "}\n",
    "```"
   ]
  },
  {
   "cell_type": "markdown",
   "id": "884f72df-4dc0-453a-ba45-b396d0af1016",
   "metadata": {},
   "source": [
    "**(2)** Implement `Calc<T>` trait for this struct. In essence, `Calc<T>` contains the _formula_ of your waveform expressed as the following function:\n",
    "```Rust\n",
    "fn calc(&self, t_arr: &[f64], res_arr: &mut[T]) { ... }\n",
    "```\n",
    "which takes a row of time points `t_arr` and stores computed signal values in `res_arr`. Parameter `T` stands for the signal sample type - use `f64` for AO and `bool` for DO. For our example, it looks like this:\n",
    "```Rust\n",
    "fn calc(&self, t_arr: &[f64], res_arr: &mut[f64]) {\n",
    "    for (res, &t) in res_arr.iter_mut().zip(t_arr.iter()) {\n",
    "        *res = self.slope * t + self.offs\n",
    "    }\n",
    "}\n",
    "```\n",
    "where the `for`-loop iterates over both `res_arr` and `t_arr` together and \n",
    "```Rust\n",
    "*res = self.slope * t + self.offs\n",
    "```\n",
    "is our linear function formula."
   ]
  },
  {
   "cell_type": "markdown",
   "id": "b13d2312-58fe-43da-a2d4-3c7be9c150e3",
   "metadata": {},
   "source": [
    "**(3)** Attach `#[usr_fn_f64]` attribute to your `pub struct ...`. This is actually a _procedural macro_ which reads the contents of your struct and writes additional code based on that. You can find details {doc}`here </internals/fn_lib>` if you want to learn more.\n",
    "\n",
    "Use `#[usr_fn_bool]` for DO waveforms instead."
   ]
  },
  {
   "cell_type": "markdown",
   "id": "b30821c4-c573-4c70-90c3-3f1529ef3486",
   "metadata": {},
   "source": [
    "**(4)** Optionally, add a documentation comment right above `pub struct ...` (order with `#[usr_fn_f64]` doesn't matter). Each line should start with `///`. This comment will be converted into the Python docstring of your waveform. "
   ]
  },
  {
   "cell_type": "markdown",
   "id": "e6e52f8d-627e-4985-a14d-bd1d007dcf31",
   "metadata": {},
   "source": [
    "### Access and use"
   ]
  },
  {
   "cell_type": "markdown",
   "id": "1e9ea57f-f353-4f3a-99c6-9bb0745d017f",
   "metadata": {},
   "source": [
    "Once you have added the waveform to `nistreamer-usrlib/src/lib.rs` and re-compiled the package (see {ref}`instructions <building-from-source>`), you can access it in `usr_fn_lib` and use it just like built-in waveforms: "
   ]
  },
  {
   "cell_type": "code",
   "execution_count": 1,
   "id": "a8e4fc32-650a-48fb-a476-135ae3fc5804",
   "metadata": {},
   "outputs": [],
   "source": [
    "from nistreamer import NIStreamer, std_fn_lib\n",
    "ni_strmr = NIStreamer()\n",
    "ao_card = ni_strmr.add_ao_card(max_name='Dev2', samp_rate=1e6)\n",
    "ao_chan = ao_card.add_chan(chan_idx=0)"
   ]
  },
  {
   "cell_type": "code",
   "execution_count": 3,
   "id": "3cde9159-7a99-4a6d-be9b-b10ba1d5f581",
   "metadata": {},
   "outputs": [],
   "source": [
    "from nistreamer import usr_fn_lib"
   ]
  },
  {
   "cell_type": "code",
   "execution_count": 4,
   "id": "1f33745c-b1eb-43de-8ba3-d77832edc3ec",
   "metadata": {},
   "outputs": [
    {
     "data": {
      "text/plain": [
       "\u001b[1;31mSignature:\u001b[0m \u001b[0musr_fn_lib\u001b[0m\u001b[1;33m.\u001b[0m\u001b[0mMyLinFn\u001b[0m\u001b[1;33m(\u001b[0m\u001b[0mslope\u001b[0m\u001b[1;33m,\u001b[0m \u001b[0moffs\u001b[0m\u001b[1;33m)\u001b[0m\u001b[1;33m\u001b[0m\u001b[1;33m\u001b[0m\u001b[0m\n",
       "\u001b[1;31mDocstring:\u001b[0m\n",
       "My linear function:\n",
       "`MyLinFn(t) = slope*t + offs`\n",
       "\u001b[1;31mType:\u001b[0m      builtin_function_or_method"
      ]
     },
     "metadata": {},
     "output_type": "display_data"
    }
   ],
   "source": [
    "usr_fn_lib.MyLinFn?"
   ]
  },
  {
   "cell_type": "code",
   "execution_count": 7,
   "id": "88be8694-2488-4243-918c-c3cf26a2a54d",
   "metadata": {},
   "outputs": [],
   "source": [
    "ni_strmr.clear_edit_cache()\n",
    "ao_chan.add_instr(\n",
    "    func=usr_fn_lib.MyLinFn(slope=1.0, offs=-2.0),\n",
    "    t=0, dur=4.0, keep_val=False\n",
    ");"
   ]
  },
  {
   "cell_type": "markdown",
   "id": "42bb5260-5214-40c9-a778-b752cf956d77",
   "metadata": {},
   "source": [
    "## Default values"
   ]
  },
  {
   "cell_type": "markdown",
   "id": "3ccded5f-07da-43d2-b2f1-35a3879f69c3",
   "metadata": {},
   "source": [
    "You can provide default parameter values by specifying full function signature as macro argument:"
   ]
  },
  {
   "cell_type": "markdown",
   "id": "8171a36f-5559-4fa3-81b0-54f5061c8bbf",
   "metadata": {},
   "source": [
    "```Rust\n",
    "/// My linear function:\n",
    "///     `MyLinFn(t) = slope*t + offs`\n",
    "/// `offs` is optional and defaults to `0.0`\n",
    "#[usr_fn_f64(slope, offs=0.0)]  // <-- notice this change\n",
    "pub struct MyLinFn {\n",
    "    slope: f64,\n",
    "    offs: f64,\n",
    "}\n",
    "```"
   ]
  },
  {
   "cell_type": "code",
   "execution_count": 3,
   "id": "f49ae9a8-7202-4a8a-b683-6127f265a9aa",
   "metadata": {},
   "outputs": [
    {
     "data": {
      "text/plain": [
       "\u001b[1;31mSignature:\u001b[0m \u001b[0musr_fn_lib\u001b[0m\u001b[1;33m.\u001b[0m\u001b[0mMyLinFn\u001b[0m\u001b[1;33m(\u001b[0m\u001b[0mslope\u001b[0m\u001b[1;33m,\u001b[0m \u001b[0moffs\u001b[0m\u001b[1;33m=\u001b[0m\u001b[1;36m0.0\u001b[0m\u001b[1;33m)\u001b[0m\u001b[1;33m\u001b[0m\u001b[1;33m\u001b[0m\u001b[0m\n",
       "\u001b[1;31mDocstring:\u001b[0m\n",
       "My linear function:\n",
       "    `MyLinFn(t) = slope*t + offs`\n",
       "`offs` is optional and defaults to `0.0`\n",
       "\u001b[1;31mType:\u001b[0m      builtin_function_or_method"
      ]
     },
     "metadata": {},
     "output_type": "display_data"
    }
   ],
   "source": [
    "usr_fn_lib.MyLinFn?"
   ]
  },
  {
   "cell_type": "code",
   "execution_count": null,
   "id": "116920db-7cf3-4359-9485-2958b3c809de",
   "metadata": {},
   "outputs": [],
   "source": [
    "ni_strmr.clear_edit_cache()\n",
    "ao_chan.add_instr(\n",
    "    func=usr_fn_lib.MyLinFn(slope=1.0),  # <-- leaving `offs` at default\n",
    "    t=0, dur=1.0, keep_val=False\n",
    ");"
   ]
  },
  {
   "cell_type": "markdown",
   "id": "93364e96-037f-4f63-91a9-5a361a32231f",
   "metadata": {},
   "source": [
    ":::{note}\n",
    "The argument of `#[usr_fn_f64( ... )]` must contain all struct field names and precisely match their order.\n",
    ":::\n",
    "\n",
    ":::{note}\n",
    "The argument of `#[usr_fn_f64( ... )]` must meet the rules of both Rust and Python. In particular:\n",
    "- Floating-point values must contain decimal dot (`1.0` instead of `1`);\n",
    "- Non-default arguments must go first;\n",
    "- `true` and `false` should be lowercase.\n",
    ":::"
   ]
  },
  {
   "cell_type": "markdown",
   "id": "e0ba9895-fa3a-4592-b306-7a566caf9f47",
   "metadata": {},
   "source": [
    "## Math library"
   ]
  },
  {
   "cell_type": "markdown",
   "id": "ab9a66f5-ca77-4e5a-bb7c-81c3649b8a39",
   "metadata": {},
   "source": [
    "Rust standard library provides most mathematical functions as methods of `f64` type ([reference](https://doc.rust-lang.org/std/primitive.f64.html)). Constants are in `std::f64::consts` [module](https://doc.rust-lang.org/std/f64/consts/index.html)."
   ]
  },
  {
   "cell_type": "markdown",
   "id": "3c0576d6-ea70-410f-9de1-da9a09afd5be",
   "metadata": {},
   "source": [
    "```Rust\n",
    "use std::f64::consts::PI;\n",
    "\n",
    "/// Sine pulse with a Gaussian envelope:\n",
    "///     `GaussSine(t) = amp(t) * sin(2*PI*freq*t + phase)`\n",
    "/// where\n",
    "///     `amp(t) = amp * exp(-(t-t0)^2 / 2*sigma^2)`\n",
    "#[usr_fn_f64(t0, sigma, amp, freq, phase=0.0, offs=0.0)]\n",
    "pub struct GaussSine {\n",
    "    t0: f64,\n",
    "    sigma: f64,\n",
    "    amp: f64,\n",
    "    freq: f64,\n",
    "    phase: f64,\n",
    "    offs: f64,\n",
    "}\n",
    "impl Calc<f64> for GaussSine {\n",
    "    fn calc(&self, t_arr: &[f64], res_arr: &mut [f64]) {\n",
    "        let denominator = 2.0 * self.sigma.powi(2);\n",
    "        for (res, &t) in res_arr.iter_mut().zip(t_arr.iter()) {\n",
    "            let amp = self.amp * f64::exp(\n",
    "                -(t - self.t0).powi(2) / denominator\n",
    "            );\n",
    "            *res = self.offs + amp * f64::sin(2.0*PI*self.freq*t + self.phase);\n",
    "        }\n",
    "    }\n",
    "}\n",
    "```"
   ]
  },
  {
   "cell_type": "code",
   "execution_count": 5,
   "id": "b8b72477-2897-45c3-8ea7-f6927bb1102f",
   "metadata": {},
   "outputs": [],
   "source": [
    "ni_strmr.clear_edit_cache()\n",
    "ao_chan.add_instr(\n",
    "    func=usr_fn_lib.GaussSine(t0=2, sigma=0.5, amp=1.5, freq=10),\n",
    "    t=0, dur=4.0, keep_val=False\n",
    ")\n",
    "ni_strmr.compile()\n",
    "ni_strmr.run()"
   ]
  },
  {
   "cell_type": "markdown",
   "id": "33a8b8ec-2872-4920-a845-b297b243054b",
   "metadata": {},
   "source": [
    "![Oscilloscope screenshot showing the recorded pulse - there is a fast sinusoidal oscillation with a Gaussian envelope.](./images/usrlib/gauss_sine_scope.svg)"
   ]
  },
  {
   "cell_type": "code",
   "execution_count": null,
   "id": "e78cd1c3-4411-4093-932c-4d176301315d",
   "metadata": {},
   "outputs": [],
   "source": []
  }
 ],
 "metadata": {
  "kernelspec": {
   "display_name": "Python 3 (ipykernel)",
   "language": "python",
   "name": "python3"
  },
  "language_info": {
   "codemirror_mode": {
    "name": "ipython",
    "version": 3
   },
   "file_extension": ".py",
   "mimetype": "text/x-python",
   "name": "python",
   "nbconvert_exporter": "python",
   "pygments_lexer": "ipython3",
   "version": "3.12.4"
  }
 },
 "nbformat": 4,
 "nbformat_minor": 5
}
