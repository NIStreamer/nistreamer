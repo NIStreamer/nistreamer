{
 "cells": [
  {
   "cell_type": "markdown",
   "id": "04f754f0-deec-4ce3-8632-24b8fdf74d7f",
   "metadata": {},
   "source": [
    "# Hardware Sync"
   ]
  },
  {
   "cell_type": "markdown",
   "id": "faea7712-65ee-4eae-9b17-c95bcc2a7928",
   "metadata": {
    "editable": true,
    "slideshow": {
     "slide_type": ""
    },
    "tags": []
   },
   "source": [
    "<div class=\"admonition note\"> \n",
    "    <p class=\"admonition-title\">Note</p> \n",
    "    <p>You need one Analog Output (AO) card and one Digital Output (DO) card to run this tutorial.</p> \n",
    "</div>"
   ]
  },
  {
   "cell_type": "markdown",
   "id": "ae2cb49a-43a2-4b24-8550-65267e4ac8c6",
   "metadata": {
    "editable": true,
    "slideshow": {
     "slide_type": ""
    },
    "tags": []
   },
   "source": [
    "<div class=\"admonition tip\"> \n",
    "    <p class=\"admonition-title\">Tip</p> \n",
    "    <p>We omit details to keep tutorials short. See API reference and docstrings for full descriptions.</p> \n",
    "</div>"
   ]
  },
  {
   "cell_type": "code",
   "execution_count": 1,
   "id": "ca6fc39c-3ce6-4541-b480-fb46c2721271",
   "metadata": {
    "editable": true,
    "slideshow": {
     "slide_type": ""
    },
    "tags": []
   },
   "outputs": [],
   "source": [
    "from nistreamer import NIStreamer"
   ]
  },
  {
   "cell_type": "markdown",
   "id": "f3c79d82-f675-4440-84b3-6cbcdb31cf06",
   "metadata": {},
   "source": [
    "In this tutorial, we will use 2 different cards simultaneously to generate both analog and digital signals:"
   ]
  },
  {
   "cell_type": "code",
   "execution_count": 2,
   "id": "bc8cd257-1a54-4bb6-a895-0688f83642bb",
   "metadata": {
    "editable": true,
    "slideshow": {
     "slide_type": ""
    },
    "tags": []
   },
   "outputs": [],
   "source": [
    "ni_strmr = NIStreamer()\n",
    "\n",
    "ao_card = ni_strmr.add_ao_card(max_name='Dev2', samp_rate=1e6)  # <-- replace `Dev2` to match your setup \n",
    "do_card = ni_strmr.add_do_card(max_name='Dev3', samp_rate=10e6)  # <-- replace `Dev3` to match your setup \n",
    "\n",
    "ao_chan = ao_card.add_chan(chan_idx=0)\n",
    "do_chan = do_card.add_chan(port_idx=0, line_idx=0)"
   ]
  },
  {
   "cell_type": "markdown",
   "id": "33ca014a-0d87-4d91-be17-dfda7e996c11",
   "metadata": {},
   "source": [
    "We will use the following minimal sequence to test start sync - both cards output a single pulse simultaneously at `t=0`:"
   ]
  },
  {
   "cell_type": "code",
   "execution_count": 3,
   "id": "7bae286c-0ebd-4f2e-bbd9-532fb02dd1be",
   "metadata": {},
   "outputs": [],
   "source": [
    "ni_strmr.clear_edit_cache()\n",
    "\n",
    "ao_chan.const(t=0, dur=10e-6, val=1)\n",
    "do_chan.high(t=0, dur=10e-6)\n",
    "\n",
    "ni_strmr.compile();"
   ]
  },
  {
   "cell_type": "markdown",
   "id": "dc48a11b-4fdd-422f-8b9b-d2780a847e94",
   "metadata": {},
   "source": [
    "## No sync (default)"
   ]
  },
  {
   "cell_type": "markdown",
   "id": "00db04ce-e3d4-43a8-b530-48c4386b0f47",
   "metadata": {},
   "source": [
    "By default, cards are not synchronized, so start times may differ significantly:"
   ]
  },
  {
   "cell_type": "code",
   "execution_count": 9,
   "id": "9c49cd47-f87b-4878-b21d-d428b287cddd",
   "metadata": {},
   "outputs": [],
   "source": [
    "ni_strmr.run(nreps=100)"
   ]
  },
  {
   "cell_type": "markdown",
   "id": "cfd96359-919e-4059-9e34-f118c5a0e742",
   "metadata": {},
   "source": [
    "![Oscilloscope screenshot showing that pulses do not align between cards - start edges are separated by more than 40 microseconds (and this gap fluctuates shot to shot).](./images/hardware_sync/no_sync.png)"
   ]
  },
  {
   "cell_type": "markdown",
   "id": "2ffe6363-ae2d-465e-8f59-ec27f11666ee",
   "metadata": {
    "editable": true,
    "slideshow": {
     "slide_type": ""
    },
    "tags": []
   },
   "source": [
    "## Start trigger"
   ]
  },
  {
   "cell_type": "markdown",
   "id": "7ba3c379-b9f7-4708-8123-15cd5663236c",
   "metadata": {},
   "source": [
    "Now let's enable start trigger sync. In our case, the two PCIe cards are connected by RTSI cable (other connections can be used, e.g. PFI terminals connected through a BNC cable, see discussion below).\n",
    "\n",
    "We need the following settings:  "
   ]
  },
  {
   "cell_type": "code",
   "execution_count": 10,
   "id": "bed9cfa4-ec84-44ce-9c53-a7d59384e439",
   "metadata": {},
   "outputs": [],
   "source": [
    "ao_card.start_trig_out = 'RTSI0'\n",
    "do_card.start_trig_in = 'RTSI0'\n",
    "ni_strmr.starts_last = ao_card.max_name"
   ]
  },
  {
   "cell_type": "markdown",
   "id": "52f0e54e-7b1a-47a4-bb94-7aefc62b8556",
   "metadata": {},
   "source": [
    "Here:\n",
    "* `ao_card` is configured to export start trigger pulse to line `0` of `RTSI` bus;\n",
    "  \n",
    "* `do_card` is set to await an external start trigger at its `RTSI0` terminal;\n",
    "\n",
    "* `ao_card` is marked as the \"starts last\" - streamer will ensure that AO card starts only after DO card has started already and is armed to receive the trigger. "
   ]
  },
  {
   "cell_type": "markdown",
   "id": "940d1cb2-6910-49cd-b126-b28055f2b221",
   "metadata": {},
   "source": [
    "We can view full settings of each card and the streamer by printing them:"
   ]
  },
  {
   "cell_type": "code",
   "execution_count": 17,
   "id": "405f8cfd-dd1b-45a2-954b-474fe1c952be",
   "metadata": {},
   "outputs": [
    {
     "data": {
      "text/plain": [
       "AO card Dev2\n",
       "\n",
       "Channels: ['ao0']\n",
       "\n",
       "Hardware settings:\n",
       "\tSample rate: 1,000,000.0 Sa/s\n",
       "\n",
       "\tStart trigger: \n",
       "\t\t in: None\n",
       "\t\tout: RTSI0\n",
       "\tSample clock:\n",
       "\t\t in: None\n",
       "\t\tout: None\n",
       "\t10 MHz reference clock: \n",
       "\t\t in: None\n",
       "\t\tout: see NIStreamer.ref_clk_provider setting\n",
       "\n",
       "\tMin buffer write timeout: 5.0 sec"
      ]
     },
     "execution_count": 17,
     "metadata": {},
     "output_type": "execute_result"
    }
   ],
   "source": [
    "ao_card"
   ]
  },
  {
   "cell_type": "code",
   "execution_count": 18,
   "id": "3b0ed5fd-f354-4a03-a9f7-6c8555029e7b",
   "metadata": {},
   "outputs": [
    {
     "data": {
      "text/plain": [
       "DO card Dev3\n",
       "\n",
       "Channels: ['port0/line0']\n",
       "\n",
       "Hardware settings:\n",
       "\tSample rate: 10,000,000.0 Sa/s\n",
       "\n",
       "\tStart trigger: \n",
       "\t\t in: RTSI0\n",
       "\t\tout: None\n",
       "\tSample clock:\n",
       "\t\t in: None\n",
       "\t\tout: None\n",
       "\t10 MHz reference clock: \n",
       "\t\t in: None\n",
       "\t\tout: see NIStreamer.ref_clk_provider setting\n",
       "\n",
       "\tMin buffer write timeout: 5.0 sec\n",
       "\n",
       "\tConst fns only: True"
      ]
     },
     "execution_count": 18,
     "metadata": {},
     "output_type": "execute_result"
    }
   ],
   "source": [
    "do_card"
   ]
  },
  {
   "cell_type": "code",
   "execution_count": 19,
   "id": "180a1642-b911-4532-b7d6-b030307bbc35",
   "metadata": {},
   "outputs": [
    {
     "data": {
      "text/plain": [
       "NIStreamer instance\n",
       "\n",
       "AO cards: ['Dev2']\n",
       "DO cards: ['Dev3']\n",
       "\n",
       "Hardware settings:\n",
       "\tCalc/write chunk size: 150.0 ms\n",
       "\t   10MHz ref provider: None\n",
       "\t     Starts-last card: Dev2"
      ]
     },
     "execution_count": 19,
     "metadata": {},
     "output_type": "execute_result"
    }
   ],
   "source": [
    "ni_strmr"
   ]
  },
  {
   "cell_type": "markdown",
   "id": "3f77e131-1855-4d78-8479-751f0d27a449",
   "metadata": {},
   "source": [
    "You should now see both pulses happening simultaneously (up to the finite AO signal rise time):"
   ]
  },
  {
   "cell_type": "code",
   "execution_count": 14,
   "id": "3cb93633-ad24-400b-928a-751aa47cdb49",
   "metadata": {},
   "outputs": [],
   "source": [
    "ni_strmr.run(nreps=100)"
   ]
  },
  {
   "cell_type": "markdown",
   "id": "dd88f613-f42f-4f51-bb23-5eefbd4d6436",
   "metadata": {},
   "source": [
    "![Oscilloscope screenshot showing that pulses are now aligned between the two cards. The only residual shift visible is due to the 4 microsecond AO rise time limited by the finite physical output bandwidth. This shift does not fluctuate shot to shot.](./images/hardware_sync/start_trig.png)"
   ]
  },
  {
   "cell_type": "markdown",
   "id": "b5d8089d-9f5c-4a75-93b5-7cbb66b8f2e8",
   "metadata": {},
   "source": [
    "## Setup file"
   ]
  },
  {
   "cell_type": "markdown",
   "id": "ed7935ca-96ea-4943-9f3d-684ed98ee497",
   "metadata": {},
   "source": [
    "In the actual experiment, you will likely have multiple cards and many tens of channels in use. Registering all of them and specifying all sync configs every time would be quite tedious.\n",
    "\n",
    "However, this setup typically doesn't change often - once written, you would only modify it if some hardware connection changes. This is why it is convenient to write the whole streamer setup in a separate `.py` file and then simply import it in every script notebook. And after that you can maintain this file by updating it according to hardware changes.  \n",
    "\n",
    "This is how we can pack our tutorial setup into a single file (let's name it `streamer_setup.py`):\n",
    "\n",
    "```Python\n",
    "from nistreamer import NIStreamer as _NIStreamer  # `_` prevents re-import with wildcard `import *`\n",
    "ni_strmr = _NIStreamer()\n",
    "\n",
    "ao_card = ni_strmr.add_ao_card(max_name='Dev2', samp_rate=1e6)\n",
    "do_card = ni_strmr.add_do_card(max_name='Dev3', samp_rate=10e6)\n",
    "# ... a few more cards registered here ...\n",
    "\n",
    "ao_chan = ao_card.add_chan(chan_idx=0)\n",
    "do_chan = do_card.add_chan(port_idx=0, line_idx=0)\n",
    "# ... many more channels registered here ...\n",
    "\n",
    "# Sync:\n",
    "TRIG_LINE = 'RTSI0'\n",
    "ao_card.start_trig_out = TRIG_LINE\n",
    "do_card.start_trig_in = TRIG_LINE\n",
    "# ... sync settings for other cards ...\n",
    "ni_strmr.starts_last = ao_card.max_name\n",
    "```\n",
    "\n",
    "Now the full demo code reduces to:"
   ]
  },
  {
   "cell_type": "code",
   "execution_count": 1,
   "id": "58f22c0b-78e4-4e2a-b492-98084372ceb4",
   "metadata": {},
   "outputs": [],
   "source": [
    "from streamer_setup import *"
   ]
  },
  {
   "cell_type": "code",
   "execution_count": 3,
   "id": "032e1874-73c0-4249-b986-d665aa044c1d",
   "metadata": {},
   "outputs": [],
   "source": [
    "ni_strmr.clear_edit_cache()\n",
    "\n",
    "ao_chan.const(t=0, dur=10e-6, val=1)\n",
    "do_chan.high(t=0, dur=10e-6)\n",
    "\n",
    "ni_strmr.compile();"
   ]
  },
  {
   "cell_type": "code",
   "execution_count": 7,
   "id": "8d62e691-ddff-4a2a-a502-ae20a6392b8b",
   "metadata": {},
   "outputs": [],
   "source": [
    "ni_strmr.run(nreps=100)"
   ]
  },
  {
   "cell_type": "markdown",
   "id": "5ca1da0e-bfa7-4236-bce9-4981e0238d10",
   "metadata": {},
   "source": [
    "## Other sync mechanisms"
   ]
  },
  {
   "cell_type": "markdown",
   "id": "4661946a-489e-44e2-97c7-140ed2a908fb",
   "metadata": {},
   "source": [
    "Apart from start trigger, a few more hardware sync mechanisms are available:\n",
    "\n",
    "* Shared sample clock (set by `samp_clk_in/out` property of cards);\n",
    "  \n",
    "* 10 MHz phase reference for onboard clock PLL (set by the combination of `ref_clk_in` property of cards and `ref_clk_provider` property of the streamer; see docstrings for details)."
   ]
  },
  {
   "cell_type": "markdown",
   "id": "6ae118ed-49cd-4aa1-83a0-0985d19c38e3",
   "metadata": {},
   "source": [
    "<div class=\"admonition tip\"> \n",
    "    <p class=\"admonition-title\">Tip</p> \n",
    "    <p>You can refer to the \"Device Routes\" tab in NI MAX for each card to find available hardware signals and which terminals they can be routed to:</p> \n",
    "</div>"
   ]
  },
  {
   "cell_type": "markdown",
   "id": "8dc28294-250b-4c74-acc3-2ab3e2709b43",
   "metadata": {},
   "source": [
    "![NI MAX screenshot. There is a table-like diagram. Available source signals and terminals are listed on the vertical axis. Available destination terminals are listed on the horizontal axis. Each source-destination cross-section cell is filled with a color: green means \"can route directly\", yellow means \"can route through another onboard sub-system\", and white means \"cannot route\".](./images/hardware_sync/nimax_device_routes_tab.svg)"
   ]
  },
  {
   "cell_type": "markdown",
   "id": "9b88fb57-35da-49ca-82ba-8aa240d8455a",
   "metadata": {},
   "source": [
    "## Choosing `PFI` vs `RTSI`/`PXI_Trig`"
   ]
  },
  {
   "cell_type": "markdown",
   "id": "87beefec-c874-4847-91da-94acd4a7d287",
   "metadata": {},
   "source": [
    "Typically, NI cards have two connectors for sync signal input/output:\n",
    "\n",
    "* the front-panel connector (corresponding lines are called `PFI`);\n",
    "* the \"back\" connector - either `RTSI` on PCIe cards, or `PXI_Trig` on PXIe cards.\n",
    "\n",
    "Either can be used. However, when using the front-panel `PFI`, the sync pulses are travelling through the same cable with the generated output. This may lead to a noticeable crosstalk, especially significant for AO outputs.\n",
    "\n",
    "In the examples above, we were intentionally using the \"back\" `RTSI` connector. Let's change the settings to use the front-panel `PFI` instead (you also need to connect the cables accordingly):"
   ]
  },
  {
   "cell_type": "code",
   "execution_count": 15,
   "id": "71e5e52b-83e4-4c98-8cd1-1bc9d23cd8bc",
   "metadata": {
    "editable": true,
    "slideshow": {
     "slide_type": ""
    },
    "tags": []
   },
   "outputs": [],
   "source": [
    "ao_card.start_trig_out = 'PFI0'\n",
    "do_card.start_trig_in = 'PFI0'\n",
    "ni_strmr.starts_last = ao_card.max_name"
   ]
  },
  {
   "cell_type": "code",
   "execution_count": 17,
   "id": "51a4d4a7-ba91-45fe-86a5-deeedbc934f2",
   "metadata": {},
   "outputs": [],
   "source": [
    "ni_strmr.run(nreps=100)"
   ]
  },
  {
   "cell_type": "markdown",
   "id": "d5b9199f-04ef-4ba2-805f-8fdc09e16309",
   "metadata": {
    "editable": true,
    "slideshow": {
     "slide_type": ""
    },
    "tags": []
   },
   "source": [
    "![Oscilloscope screenshot showing the same traces as the above. The difference is that now there is a significant spike on AO channel at the sequence start.](./images/hardware_sync/PFI_crosstalk.png)"
   ]
  },
  {
   "cell_type": "markdown",
   "id": "d387d107-3d23-4d21-95fb-139b36519c55",
   "metadata": {},
   "source": [
    "You can notice the main difference - the spike and ringing on the AO channel at zero time. It is induced by the start trigger pulse emitted by AO card and propagating through the same cable to the breakout box as the analog signal itself.\n",
    "\n",
    "This is why it is recommended to route sync signals using the \"back\" connector, if possible."
   ]
  },
  {
   "cell_type": "code",
   "execution_count": null,
   "id": "7538bedf-aaac-4a83-8322-9ad0df863a64",
   "metadata": {},
   "outputs": [],
   "source": []
  }
 ],
 "metadata": {
  "kernelspec": {
   "display_name": "Python 3 (ipykernel)",
   "language": "python",
   "name": "python3"
  },
  "language_info": {
   "codemirror_mode": {
    "name": "ipython",
    "version": 3
   },
   "file_extension": ".py",
   "mimetype": "text/x-python",
   "name": "python",
   "nbconvert_exporter": "python",
   "pygments_lexer": "ipython3",
   "version": "3.12.4"
  }
 },
 "nbformat": 4,
 "nbformat_minor": 5
}
