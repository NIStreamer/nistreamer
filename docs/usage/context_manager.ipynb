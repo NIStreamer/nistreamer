{
 "cells": [
  {
   "cell_type": "markdown",
   "id": "53bb1bc2-c08e-4620-8590-758da59967fb",
   "metadata": {},
   "source": [
    "# Context Manager"
   ]
  },
  {
   "cell_type": "markdown",
   "id": "97ff122e-b069-49e8-81c6-d557b4d675c9",
   "metadata": {
    "editable": true,
    "slideshow": {
     "slide_type": ""
    },
    "tags": []
   },
   "source": [
    "<div class=\"admonition note\"> \n",
    "    <p class=\"admonition-title\">Note</p> \n",
    "    <p>You need one AO card and one DO card to run this tutorial.</p> \n",
    "</div>"
   ]
  },
  {
   "cell_type": "markdown",
   "id": "c214c5de",
   "metadata": {},
   "source": [
    "## Streamer setup"
   ]
  },
  {
   "cell_type": "code",
   "execution_count": 1,
   "id": "9ce233b8",
   "metadata": {},
   "outputs": [],
   "source": [
    "from nistreamer import NIStreamer\n",
    "from nistreamer.utils import iplot"
   ]
  },
  {
   "cell_type": "code",
   "execution_count": 2,
   "id": "f7a380a6",
   "metadata": {
    "editable": true,
    "slideshow": {
     "slide_type": ""
    },
    "tags": []
   },
   "outputs": [],
   "source": [
    "# ⚠️ Adjust to match your setup ⚠️\n",
    "\n",
    "ni_strmr = NIStreamer()\n",
    "\n",
    "ao_card = ni_strmr.add_ao_card('Dev2', samp_rate=400e3)\n",
    "do_card = ni_strmr.add_do_card('Dev3', samp_rate=10e6)\n",
    "\n",
    "ao_0 = ao_card.add_chan(chan_idx=0)\n",
    "do_0 = do_card.add_chan(port_idx=0, line_idx=0)\n",
    "\n",
    "START_TRIG = 'RTSI0'\n",
    "ao_card.start_trig_out = START_TRIG\n",
    "do_card.start_trig_in = START_TRIG\n",
    "ni_strmr.starts_last = ao_card.max_name"
   ]
  },
  {
   "cell_type": "code",
   "execution_count": null,
   "id": "151ac54e-2706-4b60-92bb-b4e9d42eba69",
   "metadata": {},
   "outputs": [],
   "source": [
    "# Minimal demo sequence\n",
    "ni_strmr.clear_edit_cache()\n",
    "ao_0.sine(t=0, dur=100e-3, amp=1.0, freq=12.34)\n",
    "do_0.high(t=50e-3, dur=150e-3)\n",
    "ni_strmr.compile();"
   ]
  },
  {
   "cell_type": "code",
   "execution_count": null,
   "id": "2988583f-d3ae-423e-9c69-d12aae8687d4",
   "metadata": {},
   "outputs": [],
   "source": [
    "iplot(chan_list=[do_0, ao_0])"
   ]
  },
  {
   "cell_type": "markdown",
   "id": "380b97bc-d185-4956-a2a9-bd46df749fe4",
   "metadata": {
    "editable": true,
    "slideshow": {
     "slide_type": ""
    },
    "tags": []
   },
   "source": [
    "![A schematic of the demo pulse sequence. It is very simple - there is only a sine wave pulse on the analog channel and a single high pulse on the digital channel.](./images/context_manager/iplot.svg)"
   ]
  },
  {
   "cell_type": "markdown",
   "id": "234cc879-7618-45a7-bb5f-778f29360a90",
   "metadata": {},
   "source": [
    "## Context manager interface"
   ]
  },
  {
   "cell_type": "markdown",
   "id": "73b6fc37-4865-404c-ac2a-287559359b58",
   "metadata": {},
   "source": [
    "There are 2 types of stream control interfaces:\n",
    "- basic `run` method;\n",
    "- context manager API.\n",
    "\n",
    "All previous tutorials used the basic approach:"
   ]
  },
  {
   "cell_type": "code",
   "execution_count": 5,
   "id": "b9618357-0f82-428d-9917-b6fceed8b0db",
   "metadata": {},
   "outputs": [],
   "source": [
    "ni_strmr.run()"
   ]
  },
  {
   "cell_type": "markdown",
   "id": "09db64a8-8657-43c9-bf16-f77c26b78474",
   "metadata": {},
   "source": [
    "A simplest example of context manager usage, equivalent to the above with `run`, looks like this:"
   ]
  },
  {
   "cell_type": "code",
   "execution_count": 6,
   "id": "c50fb77d-8479-4dba-8092-09a60c7e8900",
   "metadata": {},
   "outputs": [],
   "source": [
    "with ni_strmr.init_stream() as handle:\n",
    "    handle.launch()\n",
    "    handle.wait_until_finished()"
   ]
  },
  {
   "cell_type": "markdown",
   "id": "87e7fb4c-4541-41a0-9795-43354d063c4c",
   "metadata": {},
   "source": [
    "Breakdown:\n",
    "\n",
    "* `with ni_strmr.init_stream() as handle` initializes the stream and assigns `StreamHandle` instance to `handle` target.\n",
    "\n",
    "* `launch()` starts the run. **Note:** this call is _non-blocking_ and returns immediately.\n",
    "\n",
    "* `wait_until_finished()` blocks script execution until the full waveform generation is finished.\n",
    "\n",
    "* Stream is automatically closed and all resources are released when leaving the context block due to any reason.\n",
    "\n",
    "See the full documentation in {py:class}`~nistreamer.streamer.NIStreamer.StreamHandle` reference section."
   ]
  },
  {
   "cell_type": "markdown",
   "id": "c3c69300-736e-44d6-9eb0-e4f29242546c",
   "metadata": {
    "editable": true,
    "slideshow": {
     "slide_type": ""
    },
    "tags": []
   },
   "source": [
    "<div class=\"admonition note\"> \n",
    "    <p class=\"admonition-title\">Note</p> \n",
    "    <p>You should always call <code>wait_until_finished</code> every time you called <code>launch</code>.</p> \n",
    "</div>"
   ]
  },
  {
   "cell_type": "markdown",
   "id": "d8674c59-bed6-499d-8ba3-e189e1cd1a98",
   "metadata": {},
   "source": []
  },
  {
   "cell_type": "markdown",
   "id": "ffec26cf-0472-4047-bdc5-1a1302b9487c",
   "metadata": {},
   "source": [
    "## Use cases"
   ]
  },
  {
   "cell_type": "markdown",
   "id": "bf0b6248-3cc8-4ce5-a912-46e9f573e75c",
   "metadata": {},
   "source": [
    "Context manager interface is needed in several cases:\n",
    "\n",
    "1. Custom logic between launches without re-init overhead;\n",
    "   \n",
    "1. Using the in-stream looping feature."
   ]
  },
  {
   "cell_type": "markdown",
   "id": "62e1e0b6-3c95-4410-9542-2cd5a1d75b73",
   "metadata": {},
   "source": [
    "### (1) Customizable repeat"
   ]
  },
  {
   "cell_type": "markdown",
   "id": "41333c3f-3aca-4d83-a2be-7fc365faf945",
   "metadata": {},
   "source": [
    "The basic `run(nreps)` method already allows to replay sequence efficiently. But in some cases, you may need to do custom operations before/after each repetition - send commands to other instruments, save data, and so on.\n",
    "\n",
    "This is how you would do it using the basic `run`:"
   ]
  },
  {
   "cell_type": "code",
   "execution_count": null,
   "id": "91d4de0e-84eb-4d0b-8641-13d7d100220d",
   "metadata": {},
   "outputs": [],
   "source": [
    "reps = 10\n",
    "for _ in range(reps):\n",
    "    # ... custom logic before ...\n",
    "    ni_strmr.run(nreps=1)  # <-- not using repeat here\n",
    "    # ... custom logic after ..."
   ]
  },
  {
   "cell_type": "markdown",
   "id": "4fcba45d-5a0d-4114-a7f3-2a0bbe8d1a81",
   "metadata": {},
   "source": [
    "Although functional, it is inefficient - the whole stream is initialized from scratch for every repetition, which is very costly."
   ]
  },
  {
   "cell_type": "markdown",
   "id": "d9532c19-b9b1-46bf-b60b-a0d577b011b0",
   "metadata": {},
   "source": [
    "Context manager interface was exposed to address this issue. Let's re-write the above example using it:"
   ]
  },
  {
   "cell_type": "code",
   "execution_count": null,
   "id": "8a9d29e2-3776-44c7-969b-56dacff6c8b7",
   "metadata": {},
   "outputs": [],
   "source": [
    "reps = 10\n",
    "with ni_strmr.init_stream() as handle:\n",
    "    for _ in range(reps):\n",
    "        # ... custom logic before ...\n",
    "        handle.launch()\n",
    "        # ... custom logic during ...\n",
    "        handle.wait_until_finished()\n",
    "        # ... custom logic after ..."
   ]
  },
  {
   "cell_type": "markdown",
   "id": "2d256a7b-a557-4b94-ae16-fcb6eb22fdf9",
   "metadata": {},
   "source": [
    "In this example, the stream is only initialized once - when entering the context - and all repetitions reuse it, avoiding the re-init overhead. This is how `run(nreps)` is actually implemented under the hood for efficient replay, but it does not allow adding custom code there.\n",
    "\n",
    "Notice that you can even execute some logic _during_ waveform playing - `launch` starts generation and returns immediately, so you can do something in parallel to streamer playing. Just don’t forget to call `wait_until_finished()` once your custom logic is done, even if you think the run has already finished.  "
   ]
  },
  {
   "cell_type": "code",
   "execution_count": null,
   "id": "74f3b436-3192-43f7-b8a3-b5dda95fdee7",
   "metadata": {
    "editable": true,
    "slideshow": {
     "slide_type": ""
    },
    "tags": []
   },
   "outputs": [],
   "source": []
  },
  {
   "cell_type": "markdown",
   "id": "0397b7da-bd67-42eb-aaae-c98d585eaf74",
   "metadata": {},
   "source": [
    "### (2) In-stream looping"
   ]
  },
  {
   "cell_type": "markdown",
   "id": "b0294fe2-fe21-4f28-8c28-c968bf835306",
   "metadata": {},
   "source": [
    "In all examples above we replayed the sequence by _re-launching_ the stream multiple times. Re-launching incurs overhead (not as large as  _re-initializing_ from scratch, but noticeable) resulting in a fluctuating time gap between repetitions:"
   ]
  },
  {
   "cell_type": "markdown",
   "id": "c1abea7c-72ba-4e9c-8b38-3cb405f40eeb",
   "metadata": {},
   "source": [
    "![An oscilloscope screenshot showing several consecutive repetitions. There is about 17 ms gap visible between repetitions due to re-launch overhead.](./images/context_manager/relaunch.svg)"
   ]
  },
  {
   "cell_type": "markdown",
   "id": "d4fb6134-3839-4245-81cd-fb2ca5de72b8",
   "metadata": {},
   "source": [
    "This is why a more advanced way of replaying is available - the _in-stream looping_ feature. It is only exposed through {py:meth}`~nistreamer.streamer.NIStreamer.StreamHandle.launch`. Here is a minimal example:"
   ]
  },
  {
   "cell_type": "code",
   "execution_count": 9,
   "id": "a78ab8e4-1e36-4528-9f72-db7ba2d05d1a",
   "metadata": {},
   "outputs": [],
   "source": [
    "with ni_strmr.init_stream() as handle:\n",
    "    handle.launch(instream_reps=10)  # <-- notice this argument\n",
    "    handle.wait_until_finished()"
   ]
  },
  {
   "cell_type": "markdown",
   "id": "40771a4e-a5c3-4874-8c0d-a1b8aaf8e439",
   "metadata": {},
   "source": [
    "In-stream looping is very different from basic re-launching - all `instream_reps` iterations happen as a single continuous stream. As a result, the gap between subsequent repetitions is minimal and will not fluctuate:"
   ]
  },
  {
   "cell_type": "markdown",
   "id": "275628dc-8142-4ae3-ba94-19f1bdc2de70",
   "metadata": {},
   "source": [
    "![The same oscilloscope screenshot, but now using the in-stream looping instead. There are no visible gaps between repetitions.](./images/context_manager/instream_loop.svg)"
   ]
  },
  {
   "cell_type": "markdown",
   "id": "942e9d8e-ee93-4440-a1c2-d6d008562d90",
   "metadata": {},
   "source": [
    "However, there are restrictions as compared to re-launching:\n",
    "\n",
    "- In-stream looping only works for **sufficiently long sequences** - a single repetition must exceed `chunksize_ms` (see {py:meth}`~nistreamer.streamer.NIStreamer.StreamHandle.launch` docs). In contrast, repetitive re-launching can be used with any sequence duration.\n",
    "\n",
    "- **Start sync**. You can use an external trigger to launch the in-stream loop, but once started, loop iterations will proceed without waiting. In contrast, each re-launch iteration can wait for a trigger to start."
   ]
  },
  {
   "cell_type": "markdown",
   "id": "c59195a4-2f96-40bc-a64c-b50b432c824e",
   "metadata": {},
   "source": [
    "Once launched, in-stream loop is running in the background, but there are ways to monitor and control it (refer to {py:class}`~nistreamer.streamer.NIStreamer.StreamHandle` for full details).\n",
    "\n",
    "Just like `run(nreps)`, it can be stopped with `KeyboardInterrupt` and behaves similarly - generation stops after completing the current repetition in progress.\n",
    "\n",
    "The following example shows how to print progress of a long-running loop with a large `instream_reps`:"
   ]
  },
  {
   "cell_type": "code",
   "execution_count": 10,
   "id": "d34bcd23-8114-4c92-8a3f-e9ccfb3c3d40",
   "metadata": {
    "tags": []
   },
   "outputs": [
    {
     "name": "stdout",
     "output_type": "stream",
     "text": [
      "100 reps written out of 100\r"
     ]
    }
   ],
   "source": [
    "instream_reps = 100\n",
    "\n",
    "with ni_strmr.init_stream() as handle:\n",
    "    handle.launch(instream_reps)\n",
    "    \n",
    "    while True:\n",
    "        finished = handle.wait_until_finished(timeout=1)\n",
    "        print(f'{handle.reps_written_count()} reps written out of {instream_reps}', end='\\r')\n",
    "        if finished:\n",
    "            break"
   ]
  },
  {
   "cell_type": "markdown",
   "id": "f8501f47-3be2-4e62-81bd-15f6df3a6c72",
   "metadata": {},
   "source": [
    "Here we are using {py:meth}`~nistreamer.streamer.NIStreamer.StreamHandle.wait_until_finished` with a finite `timeout` to periodically poll {py:meth}`~nistreamer.streamer.NIStreamer.StreamHandle.reps_written_count` until the run is finished."
   ]
  },
  {
   "cell_type": "code",
   "execution_count": null,
   "id": "c350d200-d69a-4536-913d-f7cfb91469a0",
   "metadata": {
    "editable": true,
    "slideshow": {
     "slide_type": ""
    },
    "tags": []
   },
   "outputs": [],
   "source": []
  }
 ],
 "metadata": {
  "kernelspec": {
   "display_name": "Python 3 (ipykernel)",
   "language": "python",
   "name": "python3"
  },
  "language_info": {
   "codemirror_mode": {
    "name": "ipython",
    "version": 3
   },
   "file_extension": ".py",
   "mimetype": "text/x-python",
   "name": "python",
   "nbconvert_exporter": "python",
   "pygments_lexer": "ipython3",
   "version": "3.12.4"
  }
 },
 "nbformat": 4,
 "nbformat_minor": 5
}
