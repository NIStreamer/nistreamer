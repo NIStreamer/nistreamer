{
 "cells": [
  {
   "cell_type": "markdown",
   "id": "63a226d0-dc0b-4ddc-bc75-dac2fd6438b0",
   "metadata": {
    "editable": true,
    "slideshow": {
     "slide_type": ""
    },
    "tags": []
   },
   "source": [
    "# Instructions"
   ]
  },
  {
   "cell_type": "markdown",
   "id": "cbe49a74-48a6-4e91-89ec-ff754b1af38e",
   "metadata": {},
   "source": [
    "<div class=\"admonition note\"> \n",
    "    <p class=\"admonition-title\">Note</p> \n",
    "    <p>You need one AO card to run this tutorial.</p> \n",
    "</div>"
   ]
  },
  {
   "cell_type": "markdown",
   "id": "8f7baf95-1846-4d75-8b88-a2beaf9dab55",
   "metadata": {
    "editable": true,
    "slideshow": {
     "slide_type": ""
    },
    "tags": []
   },
   "source": [
    "<div class=\"admonition tip\"> \n",
    "    <p class=\"admonition-title\">Tip</p> \n",
    "    <p>We omit details to keep tutorials short. See API reference and docstrings for full descriptions.</p> \n",
    "</div>"
   ]
  },
  {
   "cell_type": "code",
   "execution_count": 56,
   "id": "e668d5ae-e65f-46af-b62f-c8272bb42541",
   "metadata": {
    "editable": true,
    "slideshow": {
     "slide_type": ""
    },
    "tags": []
   },
   "outputs": [],
   "source": [
    "# Minimal streamer setup for this tutorial\n",
    "from nistreamer import NIStreamer\n",
    "ni_strmr = NIStreamer()\n",
    "ao_card = ni_strmr.add_ao_card(max_name='Dev2', samp_rate=1e6)  # <-- modify `Dev2` to match your setup\n",
    "ao_chan = ao_card.add_chan(chan_idx=0)"
   ]
  },
  {
   "cell_type": "markdown",
   "id": "818aa013-4f52-4bd8-b756-f9fbd3125de5",
   "metadata": {},
   "source": [
    "## Instruction contents"
   ]
  },
  {
   "cell_type": "markdown",
   "id": "b5994a01-a1b1-4a98-a10c-a76ac02e9b32",
   "metadata": {
    "editable": true,
    "slideshow": {
     "slide_type": ""
    },
    "tags": []
   },
   "source": [
    "`NIStreamer` stores pulse sequence as a collection of _instructions_. Each instruction contains start time, duration specification, and the waveform function to play:\n",
    "\n",
    "- `t` is a floating-point start time in seconds since the sequence beginning.\n",
    "\n",
    "\n",
    "- **Duration spec** can be of two types:\n",
    "    - _Fixed_ `(dur, keep_val)` - pulse of duration `dur` seconds. If `keep_val` is `True`, the last waveform value is maintained in the gap between this instruction and the next one. Otherwise channels returns to default.\n",
    "    - _Unspecified_ - actual duration is computed automatically when compiling to fill the full interval until the next instruction.  \n",
    "\n",
    "\n",
    "- **Waveform** is a mathematical function from the library (`Const`, `Sine`, `TanH`, ...) together with parameter values. \n",
    "\n",
    "Pulse sequence is built by adding instructions to channels with a user script which computes start, duration, and waveform parameters for each pulse. Streamer compiles the full sequence by filling the remaining gaps according to duration specifications."
   ]
  },
  {
   "cell_type": "markdown",
   "id": "46e25083-facb-4875-ae8b-3f7ccc9ebfc0",
   "metadata": {},
   "source": [
    "## Waveform library"
   ]
  },
  {
   "cell_type": "markdown",
   "id": "184868f8-d88c-4353-a656-125f4d0304fe",
   "metadata": {},
   "source": [
    "### Shortcuts"
   ]
  },
  {
   "cell_type": "markdown",
   "id": "2a6da34a-22da-468c-a925-826eee27de7d",
   "metadata": {},
   "source": [
    "A few common waveforms have \"shortcuts\" as direct channel methods: "
   ]
  },
  {
   "cell_type": "code",
   "execution_count": 2,
   "id": "d77c0eb5-dede-441b-8af1-d1b4ee80cd1f",
   "metadata": {},
   "outputs": [],
   "source": [
    "ni_strmr.clear_edit_cache()\n",
    "\n",
    "ao_chan.sine(t=0, dur=1.0e-3, amp=1, freq=10e3, keep_val=False)\n",
    "ao_chan.go_sine(t=2e-3, amp=2, freq=20e3)  # unspecified duration version\n",
    "\n",
    "# Helper methods for ramps:\n",
    "ao_chan.linramp(t=3e-3, dur=1e-3, start_val=0, end_val=1)\n",
    "ao_chan.sineramp(t=5e-3, dur=1e-3, start_val=0, end_val=1);"
   ]
  },
  {
   "cell_type": "markdown",
   "id": "dd48ec58-7bcb-43c2-83dd-b7b482b6dad4",
   "metadata": {},
   "source": [
    "### Library"
   ]
  },
  {
   "cell_type": "markdown",
   "id": "bf0a09e0-2679-4fd2-aa92-c9563d0b6927",
   "metadata": {},
   "source": [
    "All waveform functions are stored in the library called `std_fn_lib`. Most of them don't have shortcuts and need to be retrieved.\n",
    "\n",
    "Let's import the library and list all available waveforms:"
   ]
  },
  {
   "cell_type": "code",
   "execution_count": 3,
   "id": "9f346309-bd7e-4874-9980-ad8e9bbef838",
   "metadata": {},
   "outputs": [],
   "source": [
    "from nistreamer import std_fn_lib"
   ]
  },
  {
   "cell_type": "code",
   "execution_count": 4,
   "id": "d9f13af3-f431-4a03-a36c-3ade0428e591",
   "metadata": {},
   "outputs": [
    {
     "name": "stdout",
     "output_type": "stream",
     "text": [
      "ConstBool\n",
      "ConstF64\n",
      "Exp\n",
      "Gaussian\n",
      "LinFn\n",
      "Lorentzian\n",
      "Poly\n",
      "Pow\n",
      "Sine\n",
      "TanH\n"
     ]
    }
   ],
   "source": [
    "for fn_name in dir(std_fn_lib):\n",
    "    if not fn_name.startswith('_'):\n",
    "        print(fn_name)"
   ]
  },
  {
   "cell_type": "markdown",
   "id": "65c106e5-225d-41d5-abc3-8755ffbdc901",
   "metadata": {},
   "source": [
    "Each waveform has a descriptive docstring:"
   ]
  },
  {
   "cell_type": "code",
   "execution_count": 5,
   "id": "d21f6578-6033-406e-887c-2aafc4e3ce30",
   "metadata": {},
   "outputs": [
    {
     "data": {
      "text/plain": [
       "\u001b[1;31mSignature:\u001b[0m \u001b[0mstd_fn_lib\u001b[0m\u001b[1;33m.\u001b[0m\u001b[0mSine\u001b[0m\u001b[1;33m(\u001b[0m\u001b[0mamp\u001b[0m\u001b[1;33m,\u001b[0m \u001b[0mfreq\u001b[0m\u001b[1;33m,\u001b[0m \u001b[0mphase\u001b[0m\u001b[1;33m=\u001b[0m\u001b[1;36m0.0\u001b[0m\u001b[1;33m,\u001b[0m \u001b[0moffs\u001b[0m\u001b[1;33m=\u001b[0m\u001b[1;36m0.0\u001b[0m\u001b[1;33m)\u001b[0m\u001b[1;33m\u001b[0m\u001b[1;33m\u001b[0m\u001b[0m\n",
       "\u001b[1;31mDocstring:\u001b[0m\n",
       "Sine function:\n",
       "    amp - amplitude (in Volts)\n",
       "    freq - linear frequency (in Hz)\n",
       "    phase - absolute phase (in radians)\n",
       "    offs - offset (in Volts)\n",
       "`Sine(t) = amp * sin(2Pi * freq * t + phase) + offs`\n",
       "\u001b[1;31mType:\u001b[0m      builtin_function_or_method"
      ]
     },
     "metadata": {},
     "output_type": "display_data"
    }
   ],
   "source": [
    "std_fn_lib.Sine?"
   ]
  },
  {
   "cell_type": "markdown",
   "id": "664068ed-0df1-4f6e-880a-5a531c752454",
   "metadata": {},
   "source": [
    "Waveforms from the library are added to the sequence with the following channel methods:"
   ]
  },
  {
   "cell_type": "code",
   "execution_count": 52,
   "id": "ebce122c-8850-4ec8-a1d1-0cca21cabbcf",
   "metadata": {
    "editable": true,
    "slideshow": {
     "slide_type": ""
    },
    "tags": []
   },
   "outputs": [],
   "source": [
    "ni_strmr.clear_edit_cache()\n",
    "\n",
    "# Fixed duration\n",
    "ao_chan.add_instr(\n",
    "    t=1, dur=2, keep_val=False,\n",
    "    func=std_fn_lib.Poly([7, -8, 2])\n",
    ")\n",
    "ao_chan.add_instr(\n",
    "    t=4, dur=2, keep_val=True,\n",
    "    func=std_fn_lib.LinFn(slope=1, offs=-5)\n",
    ")\n",
    "\n",
    "# Unspecified duration\n",
    "ao_chan.add_gothis_instr(\n",
    "    t=7,\n",
    "    func=std_fn_lib.Sine(amp=0.4, freq=4)\n",
    ")\n",
    "\n",
    "ni_strmr.compile(stop_time=9);"
   ]
  },
  {
   "cell_type": "markdown",
   "id": "4f64b354-fabb-4aa6-ac1f-2851573fff3c",
   "metadata": {
    "editable": true,
    "slideshow": {
     "slide_type": ""
    },
    "tags": []
   },
   "source": [
    "![A schematic showing the computed waveform. One can see that there is indeed a parabolic pulse from 1 to 3 seconds, a linear function from 4 to 6 seconds, and then a sinusoidal wave spanning from 7 seconds through the requested stop time of 9 seconds.](./images/instructions/pulse_sequence_iplot.svg)"
   ]
  },
  {
   "cell_type": "code",
   "execution_count": 55,
   "id": "67d08742-9a81-4eb9-8d0e-9c3f0299ec20",
   "metadata": {
    "editable": true,
    "slideshow": {
     "slide_type": ""
    },
    "tags": []
   },
   "outputs": [],
   "source": [
    "ni_strmr.run()"
   ]
  },
  {
   "cell_type": "markdown",
   "id": "70f89f20-5b8b-4479-afaf-feaa859bee33",
   "metadata": {},
   "source": [
    "![Oscilloscope screenshot. The measured trace fully matches the expected waveform.](./images/instructions/scope_trace.svg)"
   ]
  },
  {
   "cell_type": "markdown",
   "id": "f3a83655-bdb2-4797-b89d-9e7d9c8bc5d1",
   "metadata": {},
   "source": [
    ":::{note}\n",
    "If the built-in library does not contain the waveform you need, custom ones can be added through the user function library (see the {doc}`tutorial </usage/usrlib>`).\n",
    ":::"
   ]
  },
  {
   "cell_type": "code",
   "execution_count": null,
   "id": "fa0a45aa-c04d-4eda-8db7-56533b432c6d",
   "metadata": {},
   "outputs": [],
   "source": []
  }
 ],
 "metadata": {
  "kernelspec": {
   "display_name": "Python 3 (ipykernel)",
   "language": "python",
   "name": "python3"
  },
  "language_info": {
   "codemirror_mode": {
    "name": "ipython",
    "version": 3
   },
   "file_extension": ".py",
   "mimetype": "text/x-python",
   "name": "python",
   "nbconvert_exporter": "python",
   "pygments_lexer": "ipython3",
   "version": "3.12.4"
  }
 },
 "nbformat": 4,
 "nbformat_minor": 5
}
