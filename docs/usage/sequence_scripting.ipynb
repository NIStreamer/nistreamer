{
 "cells": [
  {
   "cell_type": "markdown",
   "id": "a80c29dd-969b-4684-84c7-caffd3a74471",
   "metadata": {},
   "source": [
    "# Sequence Scripting"
   ]
  },
  {
   "cell_type": "markdown",
   "id": "a1dfac2d-b4ed-4d94-9bc4-bd5d1d5086c6",
   "metadata": {
    "editable": true,
    "slideshow": {
     "slide_type": ""
    },
    "tags": []
   },
   "source": [
    "<div class=\"admonition note\"> \n",
    "    <p class=\"admonition-title\">Note</p> \n",
    "    <p>You need one AO card and one DO card to run this tutorial.</p> \n",
    "</div>"
   ]
  },
  {
   "cell_type": "code",
   "execution_count": 1,
   "id": "d6f72875",
   "metadata": {
    "editable": true,
    "slideshow": {
     "slide_type": ""
    },
    "tags": []
   },
   "outputs": [],
   "source": [
    "from nistreamer import NIStreamer\n",
    "from nistreamer.utils import iplot\n",
    "import numpy as np"
   ]
  },
  {
   "cell_type": "markdown",
   "id": "49925207",
   "metadata": {},
   "source": [
    "## Streamer setup"
   ]
  },
  {
   "cell_type": "code",
   "execution_count": 30,
   "id": "c5371e85",
   "metadata": {
    "editable": true,
    "slideshow": {
     "slide_type": ""
    },
    "tags": []
   },
   "outputs": [],
   "source": [
    "# ⚠️ Adjust to match your setup ⚠️\n",
    "\n",
    "ni_strmr = NIStreamer()\n",
    "\n",
    "# Cards:\n",
    "ao_card = ni_strmr.add_ao_card(max_name='Dev2', samp_rate=1e6, nickname='ao_card')\n",
    "do_card = ni_strmr.add_do_card(max_name='Dev3', samp_rate=10e6, nickname='do_card')\n",
    "\n",
    "# Channels (variable names should reflect output meaning):\n",
    "drive = ao_card.add_chan(chan_idx=0, nickname='drive')\n",
    "trig = do_card.add_chan(port_idx=0, line_idx=0, nickname='trig')\n",
    "shutter = do_card.add_chan(port_idx=0, line_idx=1, nickname='shutter')\n",
    "\n",
    "# Start trig:\n",
    "TRIG_LINE = 'RTSI0'\n",
    "ao_card.start_trig_out = TRIG_LINE\n",
    "do_card.start_trig_in = TRIG_LINE\n",
    "ni_strmr.starts_last = ao_card.max_name\n",
    "# 10 MHz ref:\n",
    "REF_CLK_LINE = 'RTSI1'\n",
    "do_card.ref_clk_in = REF_CLK_LINE\n",
    "ni_strmr.ref_clk_provider = (ao_card.max_name, REF_CLK_LINE)"
   ]
  },
  {
   "cell_type": "markdown",
   "id": "65507b2d-1ead-4b68-9732-705ac42ed78c",
   "metadata": {},
   "source": [
    "Note that here we are using a shared 10 MHz signal to phase-lock clocks between cards.\n",
    "\n",
    "If not locked, clocks of different cards may run at slightly different rates. The cards we use spec base clock accuracy to 50 ppm (e.g. [this datasheet](https://www.ni.com/docs/en-US/bundle/pxie-6363-specs/page/specs.html)). This difference is not noticeable for short sequences. But for a sequence of 1s total duration it already gives 50 us - pulse edges may deviate by that much between cards towards the sequence end. Phase-locking ensures that all clocks follow the rate of the designated primary one. "
   ]
  },
  {
   "cell_type": "markdown",
   "id": "15261a9a",
   "metadata": {},
   "source": [
    "## Demo pulse sequence "
   ]
  },
  {
   "cell_type": "markdown",
   "id": "377a2164-eb23-425d-a393-d5278dc0171f",
   "metadata": {},
   "source": [
    "![A schematic showing the demo pulse sequence. First, there is a digital pulse on \"trig\" channel. Right after, there is sinusoidal pulse at \"drive\" channel - we want to vary its amplitude \"amp\" and duration \"tau\". Right after the drive pulse, there is another pulse on \"trig\" channel, and a simultaneous pulse on \"shutter\" channel, which is shifted back to compensate for the physical lag.](./images/sequence_scripting/sequence_scheme.svg)"
   ]
  },
  {
   "cell_type": "markdown",
   "id": "5f3463c8-3af7-430c-840e-a889d744b39e",
   "metadata": {
    "editable": true,
    "slideshow": {
     "slide_type": ""
    },
    "tags": []
   },
   "source": [
    "Let's consider the demo pulse sequence shown above. The task is to sweep both amplitude `amp` and duration `tau` of the drive pulse. Let's also send the shutter pulse a bit ahead of time to compensate for some lag - such that the actual shutter-open period aligns with the trigger pulse."
   ]
  },
  {
   "cell_type": "markdown",
   "id": "8aed52f9-943d-4135-a6c7-c3f662fa921f",
   "metadata": {},
   "source": [
    "## Script"
   ]
  },
  {
   "cell_type": "code",
   "execution_count": 3,
   "id": "375e54a3",
   "metadata": {
    "editable": true,
    "slideshow": {
     "slide_type": ""
    },
    "tags": []
   },
   "outputs": [],
   "source": [
    "# Two parameters to sweep:\n",
    "tau_arr = np.linspace(1, 10, 100) * 1e-3\n",
    "amp_arr = [0.1, 0.2, 0.3, 0.5, 1.0]\n",
    "\n",
    "# Constant parameters\n",
    "freq = 1e3\n",
    "trig_dur = 1e-3\n",
    "shutter_lag = 500e-6\n",
    "safety_buf = 50e-6\n",
    "rep_gap = 1e-3"
   ]
  },
  {
   "cell_type": "markdown",
   "id": "cd2d2a70-8f38-403e-bc7a-1fbbf10636c1",
   "metadata": {},
   "source": [
    "When scripting a sequence, one typically determines the start time of each subsequent pulse based on the end time of other recent ones. It is convenient to use a helper variable which keeps track of time as sequence grows. It starts at zero and is incremented when adding pulses. "
   ]
  },
  {
   "cell_type": "markdown",
   "id": "ca7ce001-c151-4bdb-8d71-5e59696ecd81",
   "metadata": {},
   "source": [
    "<div class=\"admonition tip\"> \n",
    "    <p class=\"admonition-title\">Tip</p> \n",
    "    <p>All methods adding fixed-duration pulses return the duration value - convenient for incrementing the helper variable in the same line.</p> \n",
    "</div>"
   ]
  },
  {
   "cell_type": "code",
   "execution_count": 31,
   "id": "2e646f9d",
   "metadata": {},
   "outputs": [],
   "source": [
    "ni_strmr.clear_edit_cache()\n",
    "\n",
    "# Helper variable to keep track of time:\n",
    "t = 0  \n",
    "\n",
    "for amp in amp_arr:\n",
    "    for tau in tau_arr:\n",
    "        \n",
    "        # 1st trig pulse\n",
    "        t += trig.high(t=t, dur=trig_dur)\n",
    "        t += safety_buf\n",
    "        \n",
    "        # Sine drive pulse\n",
    "        t += drive.sine(t=t, dur=tau, amp=amp, freq=freq)\n",
    "        t += safety_buf\n",
    "        \n",
    "        # Simultaneous 2nd trig and shutter pulses\n",
    "        trig.high(t=t, dur=trig_dur)\n",
    "        shutter.high(t=t-shutter_lag, dur=trig_dur)  # adjusted start time to compensate for lag\n",
    "        t += trig_dur\n",
    "        \n",
    "        # Buffer before next repetition\n",
    "        t += rep_gap"
   ]
  },
  {
   "cell_type": "markdown",
   "id": "141a8780",
   "metadata": {},
   "source": [
    "## Compile, preview, and stream"
   ]
  },
  {
   "cell_type": "code",
   "execution_count": 42,
   "id": "3c52c990",
   "metadata": {},
   "outputs": [],
   "source": [
    "ni_strmr.compile();"
   ]
  },
  {
   "cell_type": "code",
   "execution_count": null,
   "id": "44aa4589",
   "metadata": {},
   "outputs": [],
   "source": [
    "iplot(\n",
    "    chan_list=[drive, trig, shutter],\n",
    "    start_time=0.123,\n",
    "    end_time=0.129,\n",
    "    nsamps=int(1e3)\n",
    ")"
   ]
  },
  {
   "cell_type": "markdown",
   "id": "a2bfca8d-732e-4e90-95ff-eb6ed080ce08",
   "metadata": {},
   "source": [
    "```{image} ./images/sequence_scripting/iplot1.png\n",
    ":alt: The expected sequence is plotted. This panel shows the full sequence zoomed-out. First, one notices the most prominent structure - the amplitude sweep steps. Inside of each amplitude step, there is a finer structure - the pulse duration sweep.\n",
    ":width: 400px\n",
    ":align: center\n",
    "```"
   ]
  },
  {
   "cell_type": "markdown",
   "id": "d35b6b74-5c65-415d-9144-3af02b0dd223",
   "metadata": {},
   "source": [
    "```{image} ./images/sequence_scripting/iplot2.png\n",
    ":alt: A closer zoom-in showing pulse duration sweep within a single amplitude step.\n",
    ":width: 400px\n",
    ":align: center\n",
    "```"
   ]
  },
  {
   "cell_type": "markdown",
   "id": "20310b45-8f8f-498f-ab17-00a45f7da238",
   "metadata": {},
   "source": [
    "```{image} ./images/sequence_scripting/iplot3.png\n",
    ":alt: Full zoom-in down to a single pulse group showing that pulses are correctly positioned relative to each other.\n",
    ":width: 400px\n",
    ":align: center\n",
    "```"
   ]
  },
  {
   "cell_type": "code",
   "execution_count": 7,
   "id": "1d18e9ed-3b59-402f-ae6b-42857b367fd2",
   "metadata": {},
   "outputs": [],
   "source": [
    "ni_strmr.run()"
   ]
  },
  {
   "cell_type": "markdown",
   "id": "083e9505-7bb8-4c78-a7a1-e912b1e68bec",
   "metadata": {},
   "source": [
    "![Oscilloscope screenshot showing the full pulse sequence recorded.](./images/sequence_scripting/scope_trace1.png)"
   ]
  },
  {
   "cell_type": "markdown",
   "id": "5f424520-7159-4d1f-bfdd-faff65a94195",
   "metadata": {
    "editable": true,
    "slideshow": {
     "slide_type": ""
    },
    "tags": []
   },
   "source": [
    "![Zoom-in to show pulse duration sweep for a single amplitude value](./images/sequence_scripting/scope_trace2.png)"
   ]
  },
  {
   "cell_type": "markdown",
   "id": "33bfa709-dc7d-4ed4-9c4f-49a96b3de7f7",
   "metadata": {},
   "source": [
    "![Zoom into a single pulse group showing that pulse timing correct,](./images/sequence_scripting/scope_trace3.png)"
   ]
  },
  {
   "cell_type": "code",
   "execution_count": null,
   "id": "cb8a20a1-5ca4-41fd-8bab-771b1ba4f6db",
   "metadata": {},
   "outputs": [],
   "source": []
  }
 ],
 "metadata": {
  "kernelspec": {
   "display_name": "Python 3 (ipykernel)",
   "language": "python",
   "name": "python3"
  },
  "language_info": {
   "codemirror_mode": {
    "name": "ipython",
    "version": 3
   },
   "file_extension": ".py",
   "mimetype": "text/x-python",
   "name": "python",
   "nbconvert_exporter": "python",
   "pygments_lexer": "ipython3",
   "version": "3.12.4"
  }
 },
 "nbformat": 4,
 "nbformat_minor": 5
}
