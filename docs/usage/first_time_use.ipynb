{
 "cells": [
  {
   "cell_type": "markdown",
   "id": "817a66de-e18a-47fc-a2b4-e26c5f9b26e9",
   "metadata": {},
   "source": [
    "# First-Time Use"
   ]
  },
  {
   "cell_type": "markdown",
   "id": "8a0d735a-c7bf-429e-839e-432aa19cc0b5",
   "metadata": {},
   "source": [
    "<div class=\"admonition note\"> \n",
    "    <p class=\"admonition-title\">Note</p> \n",
    "    <p>You need one Analog Output (AO) card to run this tutorial.</p> \n",
    "</div>"
   ]
  },
  {
   "cell_type": "markdown",
   "id": "30ce5481-2e15-4faa-b5ab-ca495f872190",
   "metadata": {},
   "source": [
    "## Dry code"
   ]
  },
  {
   "cell_type": "code",
   "execution_count": null,
   "id": "149d3670-66a6-452c-9b2b-8ec0cbfff0b3",
   "metadata": {},
   "outputs": [],
   "source": [
    "from nistreamer import NIStreamer\n",
    "\n",
    "# Boilerplate\n",
    "ni_strmr = NIStreamer()\n",
    "my_card = ni_strmr.add_ao_card(max_name='Dev2', samp_rate=1e6)\n",
    "my_chan = my_card.add_chan(chan_idx=0)\n",
    "\n",
    "# Pulses\n",
    "my_chan.const(t=0, dur=1e-3, val=1)\n",
    "my_chan.sine(t=2e-3, dur=1e-3, amp=1, freq=1e3)\n",
    "\n",
    "# Play\n",
    "ni_strmr.compile()\n",
    "ni_strmr.run()"
   ]
  },
  {
   "cell_type": "markdown",
   "id": "539e8cbd-da4b-466e-a51c-096718abedb9",
   "metadata": {},
   "source": [
    "![Oscilloscope screenshot showing the actual measured waveform. There are two 1 millisecond-long pulses separated by a 1 millisecond gap - a constant-value pulse at 1 Volt followed by a single sine period with 1 Volt amplitude.](./images/first_time_use/scope_trace.svg)"
   ]
  },
  {
   "cell_type": "markdown",
   "id": "0c5659da-374e-463e-926a-7b1cfcd0b2b5",
   "metadata": {},
   "source": [
    "## Explanation"
   ]
  },
  {
   "cell_type": "markdown",
   "id": "c21fc275-213c-4471-a4a7-653ba9b95959",
   "metadata": {
    "editable": true,
    "slideshow": {
     "slide_type": ""
    },
    "tags": []
   },
   "source": [
    "First, import everything we need:"
   ]
  },
  {
   "cell_type": "code",
   "execution_count": 2,
   "id": "599ec911",
   "metadata": {},
   "outputs": [],
   "source": [
    "from nistreamer import NIStreamer\n",
    "from nistreamer.utils import iplot, RendOption"
   ]
  },
  {
   "cell_type": "markdown",
   "id": "84ae34ee-96a0-433e-ba53-c4aef858cc33",
   "metadata": {},
   "source": [
    "`NIStreamer` is the main class representing the whole streamer.  \n",
    "`iplot` is a helper tool we will use to preview sequence before playing."
   ]
  },
  {
   "cell_type": "markdown",
   "id": "2bffa57f",
   "metadata": {},
   "source": [
    "### Basic setup"
   ]
  },
  {
   "cell_type": "code",
   "execution_count": 3,
   "id": "c44555ca",
   "metadata": {},
   "outputs": [],
   "source": [
    "ni_strmr = NIStreamer()\n",
    "my_card = ni_strmr.add_ao_card(max_name='Dev2', samp_rate=1e6)\n",
    "my_chan = my_card.add_chan(chan_idx=0)"
   ]
  },
  {
   "cell_type": "markdown",
   "id": "8e4f6fb6-4b76-4908-ba2e-ebea511a7d53",
   "metadata": {},
   "source": [
    "First, you create an empty streamer. Here we named the variable as `ni_strmr`.\n",
    "\n",
    "Next, you register each card by providing device name (as shown in NI MAX app) and choosing sampling rate. The return of `add_ao_card(...)` is a proxy instance representing this card. You can choose any meaningful variable name (e.g. `fast_ao_card`). We picked a simple `my_card` for tutorial purposes.\n",
    "\n",
    "Finally, for each card you register channels that you want to use by specifying physical output identifiers. Similarly, the return of `add_chan(...)` is a proxy representing this channel. You should choose meaningful variable names reflecting what each channel controls (e.g. `mot_power`, `camera_trig`) since you will be using them in the pulse sequence script. We picked `my_chan`."
   ]
  },
  {
   "cell_type": "code",
   "execution_count": null,
   "id": "603ea051-3f55-4cd7-aca1-4a18e87f4083",
   "metadata": {},
   "outputs": [],
   "source": []
  },
  {
   "cell_type": "markdown",
   "id": "e0fde909-4b40-49d2-9e1b-cc0f5cd1a05b",
   "metadata": {},
   "source": [
    "Streamer, cards, and channels can be printed to view their settings:"
   ]
  },
  {
   "cell_type": "code",
   "execution_count": 4,
   "id": "cb6aed19-5468-4172-b5f2-e43c033d4d63",
   "metadata": {},
   "outputs": [
    {
     "data": {
      "text/plain": [
       "AO card Dev2\n",
       "\n",
       "Channels: ['ao0']\n",
       "\n",
       "Hardware settings:\n",
       "\tSample rate: 1,000,000.0 Sa/s\n",
       "\n",
       "\tStart trigger: \n",
       "\t\t in: None\n",
       "\t\tout: None\n",
       "\tSample clock:\n",
       "\t\t in: None\n",
       "\t\tout: None\n",
       "\t10 MHz reference clock: \n",
       "\t\t in: None\n",
       "\t\tout: see NIStreamer.ref_clk_provider setting\n",
       "\n",
       "\tMin buffer write timeout: 5.0 sec"
      ]
     },
     "execution_count": 4,
     "metadata": {},
     "output_type": "execute_result"
    }
   ],
   "source": [
    "my_card"
   ]
  },
  {
   "cell_type": "code",
   "execution_count": null,
   "id": "dbdef1ef-c130-4cf2-80dd-b2e151889a1d",
   "metadata": {},
   "outputs": [],
   "source": []
  },
  {
   "cell_type": "markdown",
   "id": "3d9dae81",
   "metadata": {},
   "source": [
    "### Script pulse sequence"
   ]
  },
  {
   "cell_type": "code",
   "execution_count": 6,
   "id": "35a92d93-f961-4b37-a244-1e97e67ebee3",
   "metadata": {},
   "outputs": [],
   "source": [
    "ni_strmr.clear_edit_cache()\n",
    "\n",
    "my_chan.const(t=0, dur=1e-3, val=1)\n",
    "my_chan.sine(t=2e-3, dur=1e-3, amp=1, freq=1e3);"
   ]
  },
  {
   "cell_type": "markdown",
   "id": "1339d324-132a-437b-ae3a-616cf1a995c2",
   "metadata": {},
   "source": [
    "Here we made a very simple sequence of just two pulses - a constant value and then a sine wave.\n",
    "\n",
    "Times are always in the units of seconds, so writing `t=2e-3, dur=1e-3` means \"pulse starts at 2 ms and pulse duration is 1 ms\". Start time `t` is measured from the beginning of the sequence. Output values (`val` and `amp` here) are always in the units of Volts.\n",
    "\n",
    "`clear_edit_cache()` discards all instructions added so far. If you run this cell for the first time, this does not have any effect. But typically you re-run the cell multiple times while tweaking parameters, and then clearing the old sequence is necessary before adding pulses for a new one."
   ]
  },
  {
   "cell_type": "markdown",
   "id": "e97cb8a8",
   "metadata": {
    "editable": true,
    "slideshow": {
     "slide_type": ""
    },
    "tags": []
   },
   "source": [
    "### Compile, preview, and play"
   ]
  },
  {
   "cell_type": "markdown",
   "id": "bc0fcfe0-1b71-42bc-9cdb-9dd9189b0c5e",
   "metadata": {},
   "source": [
    "Before playing, the sequence has to be compiled:"
   ]
  },
  {
   "cell_type": "code",
   "execution_count": 7,
   "id": "8c361337",
   "metadata": {},
   "outputs": [],
   "source": [
    "ni_strmr.compile();"
   ]
  },
  {
   "cell_type": "markdown",
   "id": "fc44fda4-84d2-4e21-a34e-d3666732ec70",
   "metadata": {},
   "source": [
    "If you want to preview the waveform before playing, you can use a helper function called `iplot`:"
   ]
  },
  {
   "cell_type": "code",
   "execution_count": 36,
   "id": "8ccdd350",
   "metadata": {},
   "outputs": [],
   "source": [
    "iplot(chan_list=[my_chan])"
   ]
  },
  {
   "attachments": {},
   "cell_type": "markdown",
   "id": "4d172d74-792a-4cea-a35f-c1adb67b48d3",
   "metadata": {},
   "source": [
    "![A Plotly line plot shows the expected signal - it is indeed a constant value of 1 Volt for 1 ms and then a single period of sine wave from 1 ms to 2ms](./images/first_time_use/iplot.svg)"
   ]
  },
  {
   "cell_type": "markdown",
   "id": "7460f051-092d-49f5-9123-72c6dcbc26f7",
   "metadata": {},
   "source": [
    "Call `run()` to play the sequence:"
   ]
  },
  {
   "cell_type": "code",
   "execution_count": 12,
   "id": "8b76af71",
   "metadata": {},
   "outputs": [],
   "source": [
    "ni_strmr.run()"
   ]
  },
  {
   "cell_type": "markdown",
   "id": "5c878b4e-9a7b-4b03-964a-82a14d6a394a",
   "metadata": {},
   "source": [
    "You should see the following signal:"
   ]
  },
  {
   "cell_type": "markdown",
   "id": "1f085afa-13b5-452d-a2ae-0de16bd57a94",
   "metadata": {},
   "source": [
    "![Oscilloscope screenshot showing the actual measured waveform. The actual trace precisely matches the expected.](./images/first_time_use/scope_trace.svg)"
   ]
  },
  {
   "cell_type": "markdown",
   "id": "889f6a4c",
   "metadata": {},
   "source": [
    "## Leaving safe"
   ]
  },
  {
   "cell_type": "markdown",
   "id": "035580c9-3382-4859-8af1-a9ce9f5c54a4",
   "metadata": {},
   "source": [
    "<div class=\"admonition warning\"> \n",
    "    <p class=\"admonition-title\">Warning!</p> \n",
    "    <p>When idle, NI cards keep channels constant at the last output values.</p> \n",
    "</div>"
   ]
  },
  {
   "cell_type": "markdown",
   "id": "9c39ad62-7e8a-495b-bcbf-2ff1eccc4b29",
   "metadata": {},
   "source": [
    "In particular, when run is over, channels will keep whatever values they had last in the sequence. This can be dangerous. For instance, if this AO controls some magnet current, leaving a high value can lead to overheating. **Always ensure that your sequence ends at safe values.** \n",
    "\n",
    "You can also perform hardware reset of all registered cards which sets all outputs to zero:"
   ]
  },
  {
   "cell_type": "code",
   "execution_count": 10,
   "id": "c1577351",
   "metadata": {},
   "outputs": [],
   "source": [
    "ni_strmr.reset_all()"
   ]
  },
  {
   "cell_type": "markdown",
   "id": "d9da5d45-2d34-4622-9f81-48eb1f41c3c7",
   "metadata": {},
   "source": [
    "<div class=\"admonition warning\"> \n",
    "    <p class=\"admonition-title\">Warning!</p> \n",
    "    <p>Sometimes zero may actually correspond to an \"active\" state and be unsafe if left behind.</p> \n",
    "</div>"
   ]
  },
  {
   "cell_type": "code",
   "execution_count": null,
   "id": "5b0af7a6-d53a-47d3-a8d1-b045af03a8d9",
   "metadata": {},
   "outputs": [],
   "source": []
  },
  {
   "cell_type": "markdown",
   "id": "091d6a6e-96bf-4021-a67d-4e4a61e369ea",
   "metadata": {},
   "source": [
    "## More info?"
   ]
  },
  {
   "cell_type": "markdown",
   "id": "9d911044-15af-4f38-b4ab-964b4d9ef09c",
   "metadata": {
    "editable": true,
    "slideshow": {
     "slide_type": ""
    },
    "tags": []
   },
   "source": [
    "This was only a minimal demo to get you started. Subsequent tutorials cover more topics.\n",
    "\n",
    "{doc}`API reference </api/index>` contains full details. Docstring for each function can also be accessed directly in a notebook by using `?`:"
   ]
  },
  {
   "cell_type": "code",
   "execution_count": 15,
   "id": "dd9f71c5-12eb-455f-9003-b34ed91f9317",
   "metadata": {},
   "outputs": [
    {
     "data": {
      "text/plain": [
       "\u001b[1;31mSignature:\u001b[0m \u001b[0mni_strmr\u001b[0m\u001b[1;33m.\u001b[0m\u001b[0mcompile\u001b[0m\u001b[1;33m(\u001b[0m\u001b[0mstop_time\u001b[0m\u001b[1;33m:\u001b[0m \u001b[0mOptional\u001b[0m\u001b[1;33m[\u001b[0m\u001b[0mfloat\u001b[0m\u001b[1;33m]\u001b[0m \u001b[1;33m=\u001b[0m \u001b[1;32mNone\u001b[0m\u001b[1;33m)\u001b[0m \u001b[1;33m->\u001b[0m \u001b[0mfloat\u001b[0m\u001b[1;33m\u001b[0m\u001b[1;33m\u001b[0m\u001b[0m\n",
       "\u001b[1;31mDocstring:\u001b[0m\n",
       "Compiles the full pulse sequence from instructions in the current edit cache.\n",
       "\n",
       "Args:\n",
       "    stop_time: If ``None`` (default), the compiled sequence stops at the last instruction end.\n",
       "        Specifying a later stop time extends the sequence duration.\n",
       "\n",
       "Returns:\n",
       "    The actual compiled stop time.\n",
       "\n",
       "Raises:\n",
       "    ValueError: if provided ``stop_time`` is below the last instruction end.\n",
       "\n",
       "Notes:\n",
       "    The actual stop times may vary between cards due to clock grid mismatch\n",
       "    and extra ticks on the final closing edges. The returned value is the\n",
       "    shortest run time across all cards.\n",
       "\n",
       "    If explicit ``stop_time`` is provided, the additional time at the\n",
       "    sequence end will be filled according to the usual rules:\n",
       "\n",
       "    - Constant values after finite-duration instructions.\n",
       "    - Continued waveforms after \"go-this\" instructions.\n",
       "\u001b[1;31mFile:\u001b[0m      c:\\users\\aa2-pc2\\gh\\nistreamer\\nistreamer\\py_api\\nistreamer\\streamer.py\n",
       "\u001b[1;31mType:\u001b[0m      method"
      ]
     },
     "metadata": {},
     "output_type": "display_data"
    }
   ],
   "source": [
    "ni_strmr.compile?"
   ]
  },
  {
   "cell_type": "code",
   "execution_count": null,
   "id": "373e3a34",
   "metadata": {
    "editable": true,
    "slideshow": {
     "slide_type": ""
    },
    "tags": []
   },
   "outputs": [],
   "source": []
  }
 ],
 "metadata": {
  "kernelspec": {
   "display_name": "Python 3 (ipykernel)",
   "language": "python",
   "name": "python3"
  },
  "language_info": {
   "codemirror_mode": {
    "name": "ipython",
    "version": 3
   },
   "file_extension": ".py",
   "mimetype": "text/x-python",
   "name": "python",
   "nbconvert_exporter": "python",
   "pygments_lexer": "ipython3",
   "version": "3.12.4"
  }
 },
 "nbformat": 4,
 "nbformat_minor": 5
}
