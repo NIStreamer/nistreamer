{
 "cells": [
  {
   "cell_type": "code",
   "execution_count": 1,
   "id": "bc7c5494",
   "metadata": {},
   "outputs": [],
   "source": [
    "import sys\n",
    "import os\n",
    "sys.path.append('../')\n",
    "from nistreamer import NIStreamer\n",
    "from nistreamer.utils import iplot\n",
    "\n",
    "import numpy as np"
   ]
  },
  {
   "cell_type": "code",
   "execution_count": 2,
   "id": "a2fbea82",
   "metadata": {},
   "outputs": [],
   "source": [
    "ni_streamer = NIStreamer()"
   ]
  },
  {
   "cell_type": "markdown",
   "id": "dbaa4f8f",
   "metadata": {},
   "source": [
    "### Add cards"
   ]
  },
  {
   "cell_type": "code",
   "execution_count": 3,
   "id": "4efa84e1",
   "metadata": {},
   "outputs": [],
   "source": [
    "# add analog card\n",
    "ao_card = ni_streamer.add_ao_card(\n",
    "    max_name='PXI1Slot3',\n",
    "    samp_rate=1e6  \n",
    ")\n",
    "# ao_card.cfg_start_trig(line='PXI_Trig0', export=True)\n",
    "# ao_card.cfg_ref_clk(line='PXI_Trig7', export=True)"
   ]
  },
  {
   "cell_type": "code",
   "execution_count": 4,
   "id": "05e06970",
   "metadata": {},
   "outputs": [],
   "source": [
    "# add digital card\n",
    "do_card = ni_streamer.add_do_card(\n",
    "    max_name='PXI1Slot6',\n",
    "    samp_rate=10e6\n",
    ")\n",
    "\n",
    "# do_card.cfg_start_trig('PXI_Trig0')\n",
    "# do_card.cfg_samp_clk_src(src='PXI_Trig7')"
   ]
  },
  {
   "cell_type": "markdown",
   "id": "6b744cdd",
   "metadata": {},
   "source": [
    "### Add  channels"
   ]
  },
  {
   "cell_type": "code",
   "execution_count": 5,
   "id": "9ae1949c",
   "metadata": {
    "scrolled": true
   },
   "outputs": [],
   "source": [
    "ao_0 = ao_card.add_chan(chan_idx=31)"
   ]
  },
  {
   "cell_type": "code",
   "execution_count": 6,
   "id": "075e80b1",
   "metadata": {},
   "outputs": [],
   "source": [
    "do_0 = do_card.add_chan(\n",
    "    port_idx=3,\n",
    "    line_idx=6,\n",
    ")\n",
    "\n",
    "do_1 = do_card.add_chan(\n",
    "   port_idx=3,\n",
    "   line_idx=7\n",
    ")\n"
   ]
  },
  {
   "cell_type": "code",
   "execution_count": 7,
   "id": "722cf34a",
   "metadata": {},
   "outputs": [
    {
     "name": "stdout",
     "output_type": "stream",
     "text": [
      "Channel ao31 on card PXI1Slot3\n",
      "Channel port3/line6 on card PXI1Slot6\n",
      "Channel port3/line7 on card PXI1Slot6\n"
     ]
    }
   ],
   "source": [
    "#print specifics of the analog or digital channel\n",
    "print(ao_0)\n",
    "print(do_0)\n",
    "print(do_1)"
   ]
  },
  {
   "cell_type": "markdown",
   "id": "1d70e9af",
   "metadata": {},
   "source": [
    "### Sequence"
   ]
  },
  {
   "cell_type": "code",
   "execution_count": 8,
   "id": "3e4fa2ea",
   "metadata": {},
   "outputs": [],
   "source": [
    "t1 = 1e-3\n",
    "t2 = 2e-3\n",
    "t3 = 1.5e-3\n",
    "\n",
    "ni_streamer.clear_edit_cache()\n",
    "# one can also clear individual channels via shutter_ttl.clear_edit_cache()\n",
    "\n",
    "t = 0\n",
    "\n",
    "# 1st pulse\n",
    "ao_0.constant(t=t, dur=t1, val=1, keep_val=True)\n",
    "do_0.high(t=t, dur=t2)\n",
    "t += t1\n",
    "\n",
    "# Wait\n",
    "t += t2\n",
    "\n",
    "ao_0.go_constant(t=5., value=10.)\n",
    "\n",
    "# 2nd pulse:\n",
    "do_1.go_high(t=10.)\n",
    "\n",
    "#     - if this pulse is uncommented, everything compiles\n",
    "#     - if it is commented out, `PanicException: assertion failed: chan_instr_idx < chan.instr_end().len()`"
   ]
  },
  {
   "cell_type": "code",
   "execution_count": 9,
   "id": "06f28c59",
   "metadata": {},
   "outputs": [],
   "source": [
    "ni_streamer.compile()\n",
    "iplot([ao_0, do_0], 0., 10.)"
   ]
  },
  {
   "cell_type": "markdown",
   "id": "948f54df",
   "metadata": {},
   "source": []
  },
  {
   "cell_type": "code",
   "execution_count": null,
   "id": "6a3f01f8",
   "metadata": {},
   "outputs": [],
   "source": []
  },
  {
   "cell_type": "code",
   "execution_count": null,
   "id": "dae19624",
   "metadata": {},
   "outputs": [],
   "source": []
  }
 ],
 "metadata": {
  "kernelspec": {
   "display_name": "Python 3 (ipykernel)",
   "language": "python",
   "name": "python3"
  },
  "language_info": {
   "codemirror_mode": {
    "name": "ipython",
    "version": 3
   },
   "file_extension": ".py",
   "mimetype": "text/x-python",
   "name": "python",
   "nbconvert_exporter": "python",
   "pygments_lexer": "ipython3",
   "version": "3.11.5"
  }
 },
 "nbformat": 4,
 "nbformat_minor": 5
}
