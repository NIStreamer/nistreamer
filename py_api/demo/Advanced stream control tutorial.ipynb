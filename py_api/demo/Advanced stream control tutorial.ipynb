{
 "cells": [
  {
   "cell_type": "markdown",
   "id": "c214c5de",
   "metadata": {},
   "source": [
    "### Standard setup"
   ]
  },
  {
   "cell_type": "code",
   "execution_count": 1,
   "id": "9ce233b8",
   "metadata": {},
   "outputs": [],
   "source": [
    "import sys\n",
    "sys.path.append('/home/tp/gh/pulse-streamer/ni-streamer/py_api')\n",
    "from nistreamer import NIStreamer"
   ]
  },
  {
   "cell_type": "code",
   "execution_count": 2,
   "id": "f7a380a6",
   "metadata": {},
   "outputs": [],
   "source": [
    "ni_strmr = NIStreamer()\n",
    "\n",
    "ao_card = ni_strmr.add_ao_card('AODev', samp_rate=400e3)\n",
    "do_card = ni_strmr.add_do_card('DODev', samp_rate=10e6)\n",
    "\n",
    "ao_0 = ao_card.add_chan(chan_idx=0)\n",
    "do_0 = do_card.add_chan(port_idx=0, line_idx=0)"
   ]
  },
  {
   "cell_type": "code",
   "execution_count": 3,
   "id": "0a66d049",
   "metadata": {},
   "outputs": [
    {
     "data": {
      "text/plain": [
       "1.5000000000000002"
      ]
     },
     "execution_count": 3,
     "metadata": {},
     "output_type": "execute_result"
    }
   ],
   "source": [
    "ni_strmr.clear_edit_cache()\n",
    "\n",
    "ao_0.sine(t=0, dur=1.0, amp=1.0, freq=1.234)\n",
    "do_0.high(t=0.5, dur=1.0)\n",
    "\n",
    "ni_strmr.compile()"
   ]
  },
  {
   "cell_type": "code",
   "execution_count": 4,
   "id": "bf4a2333",
   "metadata": {},
   "outputs": [],
   "source": [
    "ni_strmr.starts_last = 'AODev'\n",
    "ni_strmr.ref_clk_provider = ('AODev', 'TestPFI0')\n",
    "ni_strmr.chunksize_ms = 123"
   ]
  },
  {
   "cell_type": "markdown",
   "id": "aefae351",
   "metadata": {},
   "source": []
  },
  {
   "cell_type": "markdown",
   "id": "3631ba9d",
   "metadata": {},
   "source": [
    "# Stream controls"
   ]
  },
  {
   "cell_type": "markdown",
   "id": "64abf40f",
   "metadata": {},
   "source": [
    "The most basic way of running the stream is to use the built-in `run` method:"
   ]
  },
  {
   "cell_type": "code",
   "execution_count": 5,
   "id": "4e29174c",
   "metadata": {},
   "outputs": [],
   "source": [
    "ni_strmr.run(nreps=2)"
   ]
  },
  {
   "cell_type": "markdown",
   "id": "b8b2b9e7",
   "metadata": {},
   "source": [
    "For more advanced applications one can use the context manager API.\n",
    "The simplest example is shown below - it is the equivalent of the above `run()` example (this is literally how `run` is implemented under the hood):"
   ]
  },
  {
   "cell_type": "code",
   "execution_count": 6,
   "id": "7d22a6d3",
   "metadata": {},
   "outputs": [],
   "source": [
    "with ni_strmr.init_stream() as stream:\n",
    "    stream.launch(nreps=2)\n",
    "    stream.wait_until_finished()"
   ]
  },
  {
   "cell_type": "markdown",
   "id": "8935a0aa",
   "metadata": {},
   "source": [
    "Breakdown:\n",
    "\n",
    "* `with ni_strmr.init_stream() as stream` initializes the stream and assigns `StreamHandle` instance to `stream` target;\n",
    "\n",
    "* `launch(nreps)` method commands to launch the run with `nreps` _in-stream_ repetitions. **Note** - this call is non-blocking, it returns immediately;\n",
    "\n",
    "* `wait_until_finished()` blocks and returns only when full waveform generation is finished.  \n",
    "  If you want to stop generation before completing all `nreps`, emit `KeyboardInterrupt` - it will break out from `wait_until_finished()`\n",
    "\n",
    "* Stream is automatically closed and all resources are released when leaving the context (this applies to both clean return and return due to an exception)"
   ]
  },
  {
   "cell_type": "markdown",
   "id": "3a92076d",
   "metadata": {},
   "source": [
    "<div class=\"alert alert-block alert-info\"> \n",
    "    <b>NOTE</b> You should always make a `wait_until_finished` call every time after you called `launch`.\n",
    "</div>"
   ]
  },
  {
   "cell_type": "markdown",
   "id": "6bb63e0a",
   "metadata": {},
   "source": [
    "<div class=\"alert alert-block alert-info\"> \n",
    "    <b>NOTE</b> Both `run` and context-based controls can be intrrupted with `KeyboardInterrupt` if you don't want to wait for all reps to finish. After the signal was emitted, the streamer will finish a complete rep or two before stopping, it will not stop mid-way through the waveform.\n",
    "</div>"
   ]
  },
  {
   "cell_type": "code",
   "execution_count": null,
   "id": "d407e08d",
   "metadata": {},
   "outputs": [],
   "source": []
  },
  {
   "cell_type": "markdown",
   "id": "60514a25",
   "metadata": {},
   "source": [
    "`StreamHandle` class has the following methods (more info in corresponding docstrings):\n",
    "\n",
    "* `launch`\n",
    "\n",
    "* `wait_until_finished`\n",
    "\n",
    "* `reps_written_count` - returns the total number of in-stream reps _written_ already (not the same as _generated_ already, see docstring)\n",
    "\n",
    "* `request_stop` (you don't need this method in most cases)"
   ]
  },
  {
   "cell_type": "code",
   "execution_count": null,
   "id": "afd02b1b",
   "metadata": {},
   "outputs": [],
   "source": []
  },
  {
   "cell_type": "markdown",
   "id": "7ea08e36",
   "metadata": {},
   "source": [
    "Reasons for using  `with` context API:\n",
    "\n",
    "* Avoids unnecessary re-inits (which typically take extra ~50 ms). Resource allocation (connecting to cards and configuring hardware, allocating large sample arrays) is only done once when entering the context. All resources are then reused for subsequent relaunches as long as you don't leave `with`;\n",
    "\n",
    "* Custom \"progress\" monitoring for large `nreps` in-stream loops.\n",
    "\n",
    "\n",
    "See examples below"
   ]
  },
  {
   "cell_type": "code",
   "execution_count": null,
   "id": "9105f292",
   "metadata": {},
   "outputs": [],
   "source": []
  },
  {
   "cell_type": "markdown",
   "id": "dac7b4ef",
   "metadata": {},
   "source": [
    "## Specific examples"
   ]
  },
  {
   "cell_type": "markdown",
   "id": "23f50e76",
   "metadata": {},
   "source": [
    "A series of single-rep launches without re-init overhead.  \n",
    "Use cases:\n",
    "* Wait for start trigger for each run\n",
    "* Run custom code before/after each run (e.g. send network commands to other instruments, save data)"
   ]
  },
  {
   "cell_type": "code",
   "execution_count": 7,
   "id": "4b38567c",
   "metadata": {},
   "outputs": [],
   "source": [
    "nlaunches = 3\n",
    "\n",
    "with ni_strmr.init_stream() as stream:\n",
    "    for _ in range(nlaunches):\n",
    "        # before-run custom code here\n",
    "        stream.launch()  # if start trigger was configured, each launch will wait for a trig to start\n",
    "        stream.wait_until_finished()\n",
    "        # after-run custom code here"
   ]
  },
  {
   "cell_type": "markdown",
   "id": "d939f6f1",
   "metadata": {},
   "source": []
  },
  {
   "cell_type": "markdown",
   "id": "842d4c9f",
   "metadata": {},
   "source": [
    "Minimal example of a custom \"progress bar\" to monitor runs with a large number `nreps` of in-stream repetitions. \n",
    "\n",
    "Note that we are using `wait_until_finished` method with a non-`None` argument - it blocks until eithr generation is finished or timeout elapses (see docstring). That way we can periodically poll `reps_written_count()`"
   ]
  },
  {
   "cell_type": "code",
   "execution_count": 9,
   "id": "3a0bcc5a",
   "metadata": {
    "tags": []
   },
   "outputs": [
    {
     "name": "stdout",
     "output_type": "stream",
     "text": [
      "10 reps written out of 10\r"
     ]
    }
   ],
   "source": [
    "nreps = 10\n",
    "\n",
    "with ni_strmr.init_stream() as stream:\n",
    "    stream.launch(nreps=nreps)\n",
    "    \n",
    "    while True:\n",
    "        finished = stream.wait_until_finished(timeout=1)\n",
    "        print(f'{stream.reps_written_count()} reps written out of {nreps}', end='\\r')\n",
    "        if finished:\n",
    "            break"
   ]
  },
  {
   "cell_type": "code",
   "execution_count": null,
   "id": "9f15e343",
   "metadata": {},
   "outputs": [],
   "source": []
  }
 ],
 "metadata": {
  "kernelspec": {
   "display_name": "Python 3",
   "language": "python",
   "name": "python3"
  },
  "language_info": {
   "codemirror_mode": {
    "name": "ipython",
    "version": 3
   },
   "file_extension": ".py",
   "mimetype": "text/x-python",
   "name": "python",
   "nbconvert_exporter": "python",
   "pygments_lexer": "ipython3",
   "version": "3.8.5"
  }
 },
 "nbformat": 4,
 "nbformat_minor": 5
}
