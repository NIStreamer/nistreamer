{
 "cells": [
  {
   "cell_type": "markdown",
   "id": "c214c5de",
   "metadata": {},
   "source": [
    "### Standard setup for the demo"
   ]
  },
  {
   "cell_type": "code",
   "execution_count": 1,
   "id": "9ce233b8",
   "metadata": {},
   "outputs": [],
   "source": [
    "import sys\n",
    "sys.path.append(r'\\absolute\\path\\of\\ni-streamer\\py_api')\n",
    "from nistreamer import NIStreamer"
   ]
  },
  {
   "cell_type": "code",
   "execution_count": 2,
   "id": "f7a380a6",
   "metadata": {},
   "outputs": [],
   "source": [
    "ni_strmr = NIStreamer()\n",
    "\n",
    "ao_card = ni_strmr.add_ao_card('Dev2', samp_rate=400e3)\n",
    "do_card = ni_strmr.add_do_card('Dev3', samp_rate=10e6)\n",
    "\n",
    "ao_0 = ao_card.add_chan(chan_idx=0)\n",
    "do_0 = do_card.add_chan(port_idx=0, line_idx=0)"
   ]
  },
  {
   "cell_type": "code",
   "execution_count": 3,
   "id": "bf4a2333",
   "metadata": {},
   "outputs": [],
   "source": [
    "START_TRIG = 'PFI0'\n",
    "ao_card.start_trig_out = START_TRIG\n",
    "do_card.start_trig_in = START_TRIG\n",
    "ni_strmr.starts_last = ao_card.max_name"
   ]
  },
  {
   "cell_type": "code",
   "execution_count": 4,
   "id": "151ac54e-2706-4b60-92bb-b4e9d42eba69",
   "metadata": {},
   "outputs": [
    {
     "data": {
      "text/plain": [
       "0.2"
      ]
     },
     "execution_count": 4,
     "metadata": {},
     "output_type": "execute_result"
    }
   ],
   "source": [
    "# Minimal demo sequence\n",
    "ni_strmr.clear_edit_cache()\n",
    "ao_0.sine(t=0, dur=100e-3, amp=1.0, freq=12.34)\n",
    "do_0.high(t=50e-3, dur=150e-3)\n",
    "ni_strmr.compile()"
   ]
  },
  {
   "cell_type": "markdown",
   "id": "aefae351",
   "metadata": {},
   "source": []
  },
  {
   "cell_type": "markdown",
   "id": "234cc879-7618-45a7-bb5f-778f29360a90",
   "metadata": {},
   "source": [
    "# Context manager stream interface"
   ]
  },
  {
   "cell_type": "markdown",
   "id": "73b6fc37-4865-404c-ac2a-287559359b58",
   "metadata": {},
   "source": [
    "There are 2 types of stream control interfaces:\n",
    "- basic built-in `run` method;\n",
    "- context manager API.\n",
    "\n",
    "A minimal example of context manager usage:"
   ]
  },
  {
   "cell_type": "code",
   "execution_count": 5,
   "id": "c50fb77d-8479-4dba-8092-09a60c7e8900",
   "metadata": {},
   "outputs": [],
   "source": [
    "with ni_strmr.init_stream() as stream_handle:\n",
    "    stream_handle.launch()\n",
    "    stream_handle.wait_until_finished()"
   ]
  },
  {
   "cell_type": "markdown",
   "id": "87e7fb4c-4541-41a0-9795-43354d063c4c",
   "metadata": {},
   "source": [
    "Breakdown:\n",
    "\n",
    "* `with ni_strmr.init_stream() as stream` initializes the stream and assigns `StreamHandle` instance to `stream` target;\n",
    "\n",
    "* `launch()` method commands to launch the run. **Note** - this call is non-blocking and returns immediately;\n",
    "\n",
    "* `wait_until_finished()` blocks and returns only when the full waveform generation is finished;\n",
    "\n",
    "* Stream is automatically closed and all resources are released when leaving the context due to any reason."
   ]
  },
  {
   "cell_type": "markdown",
   "id": "6338d212-5fad-45fd-a46b-c5f3a416e883",
   "metadata": {},
   "source": [
    "<div class=\"alert alert-block alert-info\"> \n",
    "    <b>NOTE</b> You should always make a `wait_until_finished` call every time after you called `launch` even if you are sure the generation has finished already. This call is necessary to toggle the internal state machine from `Running` back to `Idle` state.\n",
    "</div>"
   ]
  },
  {
   "cell_type": "code",
   "execution_count": null,
   "id": "395ff6cd-43e8-438f-b59f-45b1fc57ac89",
   "metadata": {},
   "outputs": [],
   "source": []
  },
  {
   "cell_type": "markdown",
   "id": "ffec26cf-0472-4047-bdc5-1a1302b9487c",
   "metadata": {},
   "source": [
    "## Context manager use cases"
   ]
  },
  {
   "cell_type": "markdown",
   "id": "bf0b6248-3cc8-4ce5-a912-46e9f573e75c",
   "metadata": {},
   "source": [
    "1. Adding custom logic to run before/during/after each repetition without stream re-init overhead - NI tasks, worker threads, and large memory buffers are only allocated once when entering the context and are re-used for each launch as long as you are staying within the context block;\n",
    "   \n",
    "1. Using the in-stream looping feature."
   ]
  },
  {
   "cell_type": "code",
   "execution_count": null,
   "id": "57672823-7828-4049-89f0-62944373bb13",
   "metadata": {},
   "outputs": [],
   "source": []
  },
  {
   "cell_type": "markdown",
   "id": "62e1e0b6-3c95-4410-9542-2cd5a1d75b73",
   "metadata": {},
   "source": [
    "### (1) A series of launches without re-init overhead"
   ]
  },
  {
   "cell_type": "markdown",
   "id": "dddc49ce-f9a5-4b8a-ae17-1bc6d3051e21",
   "metadata": {},
   "source": [
    "Example applications:\n",
    "* Wait for start trigger for each run;\n",
    "* Run custom code before/after each run (e.g. print progress, send network commands to other instruments, save data)."
   ]
  },
  {
   "cell_type": "code",
   "execution_count": 6,
   "id": "8a9d29e2-3776-44c7-969b-56dacff6c8b7",
   "metadata": {},
   "outputs": [
    {
     "name": "stdout",
     "output_type": "stream",
     "text": [
      "100 reps finished out of 100\r"
     ]
    }
   ],
   "source": [
    "nreps = 100\n",
    "with ni_strmr.init_stream() as stream:\n",
    "    for rep_idx in range(nreps):\n",
    "        # before-run custom code here\n",
    "        stream.launch()  # if start trigger was configured, each launch will wait for a trig to start\n",
    "        stream.wait_until_finished()\n",
    "        # after-run custom code here\n",
    "        print(f'{rep_idx + 1} reps finished out of {nreps}', end='\\r')"
   ]
  },
  {
   "cell_type": "markdown",
   "id": "03a0b8c3-e69a-4093-999b-db86c2f0eef0",
   "metadata": {},
   "source": [
    "(_Note:_ this is how the legacy `run(nreps)` method is implemented under the hood)"
   ]
  },
  {
   "cell_type": "code",
   "execution_count": null,
   "id": "1e39cd82-741b-4f95-bee0-ce26ce514c1a",
   "metadata": {},
   "outputs": [],
   "source": []
  },
  {
   "cell_type": "markdown",
   "id": "0397b7da-bd67-42eb-aaae-c98d585eaf74",
   "metadata": {},
   "source": [
    "### (2) In-stream looping feature"
   ]
  },
  {
   "cell_type": "markdown",
   "id": "d4fb6134-3839-4245-81cd-fb2ca5de72b8",
   "metadata": {},
   "source": [
    "In the example above we repeated the sequence by **re-launching** the stream several times.\n",
    "\n",
    "`StreamHandle` exposes another way - **in-stream looping** feature. A minimal example:"
   ]
  },
  {
   "cell_type": "code",
   "execution_count": 7,
   "id": "a78ab8e4-1e36-4528-9f72-db7ba2d05d1a",
   "metadata": {},
   "outputs": [],
   "source": [
    "with ni_strmr.init_stream() as stream:\n",
    "    stream.launch(instream_reps=100)\n",
    "    stream.wait_until_finished()"
   ]
  },
  {
   "cell_type": "markdown",
   "id": "d3f53e80-a269-4cdc-98e9-d463d31ca6ba",
   "metadata": {},
   "source": [
    "**In-stream looping** is very different from **repetitive re-launching**:\n",
    "\n",
    "- For in-stream looping, the stream is started once and generation goes over the sequence `instream_reps` times \"on-the-fly\" as if they were concatenated together. This means there will be a minimal gap between subsequent repetitions which will not fluctuate. But it will only await for a single start trigger in the beginning if `start_trig` was configured.\n",
    "\n",
    "- For repetitive re-launching, the stream is stopped and then re-started for every next launch. This leads to a fluctuating gap between subsequent repetitions. But it allows to wait for a start trigger every time. \n",
    "\n",
    "Another difference - **sequence duration requirement**. In-stream looping can only be used for a sufficiently long sequence - single-rep duration should be longer than `chunksize` (typically 150 ms). Repetitive re-launching does not have such a limitation and can be used with a sequence of any duration.\n",
    "\n",
    "Both mechanisms allow for mid-run interruption with `KeyboardInterrupt` - streamer will stop after completing the current repetition in progress. "
   ]
  },
  {
   "cell_type": "code",
   "execution_count": null,
   "id": "b8efe594-54d4-4e50-a0d7-20e17043aab1",
   "metadata": {},
   "outputs": [],
   "source": []
  },
  {
   "cell_type": "markdown",
   "id": "36fcd04c-1b44-48f3-b676-e76639656743",
   "metadata": {},
   "source": [
    "A more advanced example - a minimal custom \"progress bar\" to monitor runs with a large number of in-stream repetitions. \n",
    "\n",
    "- We are using `wait_until_finished` method with a non-`None` argument - it blocks until eithr generation is finished or timeout elapses (see docstring)\n",
    "- That way we can periodically poll `reps_written_count()` - the total number of repetitions written so far"
   ]
  },
  {
   "cell_type": "code",
   "execution_count": 8,
   "id": "3afc36c6-b57d-4e30-b8ba-4722874d9426",
   "metadata": {
    "tags": []
   },
   "outputs": [
    {
     "name": "stdout",
     "output_type": "stream",
     "text": [
      "100 reps written out of 100\r"
     ]
    }
   ],
   "source": [
    "instream_reps = 100\n",
    "\n",
    "with ni_strmr.init_stream() as stream:\n",
    "    stream.launch(instream_reps=instream_reps)\n",
    "    \n",
    "    while True:\n",
    "        finished = stream.wait_until_finished(timeout=1)\n",
    "        print(f'{stream.reps_written_count()} reps written out of {instream_reps}', end='\\r')\n",
    "        if finished:\n",
    "            break"
   ]
  },
  {
   "cell_type": "code",
   "execution_count": null,
   "id": "fe6c3b58-b5a1-4dfe-a028-0fadb8cff563",
   "metadata": {},
   "outputs": [],
   "source": []
  },
  {
   "cell_type": "markdown",
   "id": "bffc01e2-ca01-41bd-aeb5-7c955bfe48e6",
   "metadata": {},
   "source": [
    "Below is the full list of `StreamHandle` methods:\n",
    "\n",
    "* `launch`\n",
    "\n",
    "* `wait_until_finished`\n",
    "\n",
    "* `reps_written_count` - returns the total number of in-stream reps _written_ already (not the same as _generated_ already, see docstring)\n",
    "\n",
    "* `request_stop` (you don't need this method in most cases)\n",
    "\n",
    "You can find more info in the corresponding docstrings."
   ]
  },
  {
   "cell_type": "code",
   "execution_count": null,
   "id": "c350d200-d69a-4536-913d-f7cfb91469a0",
   "metadata": {},
   "outputs": [],
   "source": []
  }
 ],
 "metadata": {
  "kernelspec": {
   "display_name": "Python 3 (ipykernel)",
   "language": "python",
   "name": "python3"
  },
  "language_info": {
   "codemirror_mode": {
    "name": "ipython",
    "version": 3
   },
   "file_extension": ".py",
   "mimetype": "text/x-python",
   "name": "python",
   "nbconvert_exporter": "python",
   "pygments_lexer": "ipython3",
   "version": "3.12.4"
  }
 },
 "nbformat": 4,
 "nbformat_minor": 5
}
