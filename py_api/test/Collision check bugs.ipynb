{
 "cells": [
  {
   "cell_type": "code",
   "execution_count": 1,
   "id": "b7a83aea",
   "metadata": {},
   "outputs": [],
   "source": [
    "import sys\n",
    "import os\n",
    "\n",
    "sys.path.append(os.path.join(\n",
    "    r'C:\\Users\\AA2-ControlPC\\Software\\NI-experiment-control\\nistreamer'\n",
    "))"
   ]
  },
  {
   "cell_type": "code",
   "execution_count": 2,
   "id": "49da5f03",
   "metadata": {},
   "outputs": [],
   "source": [
    "from nistreamer import NIStreamer\n",
    "from nistreamer.utils import iplot, RendOption\n",
    "import numpy as np"
   ]
  },
  {
   "cell_type": "code",
   "execution_count": 3,
   "id": "2ebd3c30",
   "metadata": {},
   "outputs": [],
   "source": [
    "ni_streamer = NIStreamer()"
   ]
  },
  {
   "cell_type": "code",
   "execution_count": 4,
   "id": "2a2b01a8",
   "metadata": {},
   "outputs": [],
   "source": [
    "do_card = ni_streamer.add_do_card(max_name='PXI1Slot6', samp_rate=10e6)\n",
    "\n",
    "do_bank = []\n",
    "for port_idx in range(4):\n",
    "    for line_idx in range(8):\n",
    "        do_bank.append(do_card.add_chan(\n",
    "            port_idx=port_idx,\n",
    "            line_idx=line_idx\n",
    "        ))"
   ]
  },
  {
   "cell_type": "code",
   "execution_count": 5,
   "id": "a37aac85",
   "metadata": {},
   "outputs": [
    {
     "data": {
      "text/plain": [
       "32"
      ]
     },
     "execution_count": 5,
     "metadata": {},
     "output_type": "execute_result"
    }
   ],
   "source": [
    "len(do_bank)"
   ]
  },
  {
   "cell_type": "markdown",
   "id": "1dad1324",
   "metadata": {},
   "source": [
    "### Back-to-back instructions"
   ]
  },
  {
   "cell_type": "code",
   "execution_count": 6,
   "id": "b4e63f47",
   "metadata": {},
   "outputs": [
    {
     "name": "stdout",
     "output_type": "stream",
     "text": [
      "Adding instruction 0 ===============\n",
      "Adding instruction 1 ===============\n",
      "Adding instruction 2 ===============\n",
      "Adding instruction 3 ===============\n",
      "Adding instruction 4 ===============\n",
      "Adding instruction 5 ===============\n",
      "Adding instruction 6 ===============\n",
      "Adding instruction 7 ===============\n",
      "Adding instruction 8 ===============\n",
      "Adding instruction 9 ===============\n",
      "Adding instruction 10 ===============\n"
     ]
    },
    {
     "ename": "PanicException",
     "evalue": "Channel port0/line0\n Instruction InstrBook([CONST, {value: 1}], 999999-1099999, false) overlaps with the previous instruction InstrBook([CONST, {value: 1}], 900000-1000000, false)",
     "output_type": "error",
     "traceback": [
      "\u001b[1;31m---------------------------------------------------------------------------\u001b[0m",
      "\u001b[1;31mPanicException\u001b[0m                            Traceback (most recent call last)",
      "\u001b[1;32m~\\AppData\\Local\\Temp\\ipykernel_17328\\2238242929.py\u001b[0m in \u001b[0;36m<module>\u001b[1;34m\u001b[0m\n\u001b[0;32m     11\u001b[0m \u001b[1;33m\u001b[0m\u001b[0m\n\u001b[0;32m     12\u001b[0m     \u001b[1;32mfor\u001b[0m \u001b[0mdo_chan\u001b[0m \u001b[1;32min\u001b[0m \u001b[0mdo_bank\u001b[0m\u001b[1;33m:\u001b[0m\u001b[1;33m\u001b[0m\u001b[1;33m\u001b[0m\u001b[0m\n\u001b[1;32m---> 13\u001b[1;33m         \u001b[0mdo_chan\u001b[0m\u001b[1;33m.\u001b[0m\u001b[0mhigh\u001b[0m\u001b[1;33m(\u001b[0m\u001b[0mt\u001b[0m\u001b[1;33m=\u001b[0m\u001b[0mt\u001b[0m\u001b[1;33m,\u001b[0m \u001b[0mdur\u001b[0m\u001b[1;33m=\u001b[0m\u001b[0minstr_dur\u001b[0m\u001b[1;33m)\u001b[0m\u001b[1;33m\u001b[0m\u001b[1;33m\u001b[0m\u001b[0m\n\u001b[0m\u001b[0;32m     14\u001b[0m         \u001b[1;31m# do_chan.go_high(t=t)\u001b[0m\u001b[1;33m\u001b[0m\u001b[1;33m\u001b[0m\u001b[0m\n\u001b[0;32m     15\u001b[0m         \u001b[1;31m# do_chan.go_low(t=t + instr_dur - buf)\u001b[0m\u001b[1;33m\u001b[0m\u001b[1;33m\u001b[0m\u001b[0m\n",
      "\u001b[1;32m~\\Software\\NI-experiment-control\\nistreamer\\nistreamer\\channel.py\u001b[0m in \u001b[0;36mhigh\u001b[1;34m(self, t, dur)\u001b[0m\n\u001b[0;32m    170\u001b[0m \u001b[1;33m\u001b[0m\u001b[0m\n\u001b[0;32m    171\u001b[0m     \u001b[1;32mdef\u001b[0m \u001b[0mhigh\u001b[0m\u001b[1;33m(\u001b[0m\u001b[0mself\u001b[0m\u001b[1;33m,\u001b[0m \u001b[0mt\u001b[0m\u001b[1;33m,\u001b[0m \u001b[0mdur\u001b[0m\u001b[1;33m)\u001b[0m\u001b[1;33m:\u001b[0m\u001b[1;33m\u001b[0m\u001b[1;33m\u001b[0m\u001b[0m\n\u001b[1;32m--> 172\u001b[1;33m         self._dll.high(\n\u001b[0m\u001b[0;32m    173\u001b[0m             \u001b[0mdev_name\u001b[0m\u001b[1;33m=\u001b[0m\u001b[0mself\u001b[0m\u001b[1;33m.\u001b[0m\u001b[0m_card_max_name\u001b[0m\u001b[1;33m,\u001b[0m\u001b[1;33m\u001b[0m\u001b[1;33m\u001b[0m\u001b[0m\n\u001b[0;32m    174\u001b[0m             \u001b[0mchan_name\u001b[0m\u001b[1;33m=\u001b[0m\u001b[0mself\u001b[0m\u001b[1;33m.\u001b[0m\u001b[0mchan_name\u001b[0m\u001b[1;33m,\u001b[0m\u001b[1;33m\u001b[0m\u001b[1;33m\u001b[0m\u001b[0m\n",
      "\u001b[1;31mPanicException\u001b[0m: Channel port0/line0\n Instruction InstrBook([CONST, {value: 1}], 999999-1099999, false) overlaps with the previous instruction InstrBook([CONST, {value: 1}], 900000-1000000, false)"
     ]
    }
   ],
   "source": [
    "ni_streamer.clear_edit_cache()\n",
    "\n",
    "total_dur = 10.0\n",
    "instr_dur = 10e-3\n",
    "instr_num = int(total_dur // instr_dur)\n",
    "\n",
    "t = 0\n",
    "for idx in range(instr_num):\n",
    "    \n",
    "    print(f'Adding instruction {idx} ===============')\n",
    "        \n",
    "    for do_chan in do_bank:\n",
    "        do_chan.high(t=t, dur=instr_dur)\n",
    "        # do_chan.go_high(t=t)\n",
    "        # do_chan.go_low(t=t + instr_dur - buf)\n",
    "        \n",
    "    t += instr_dur"
   ]
  },
  {
   "cell_type": "code",
   "execution_count": null,
   "id": "21a9a910",
   "metadata": {},
   "outputs": [],
   "source": []
  },
  {
   "cell_type": "markdown",
   "id": "41d37fa1",
   "metadata": {},
   "source": [
    "Collision between\n",
    "\n",
    "`90,000,0 ... 100,000,0`\n",
    "\n",
    "and\n",
    "\n",
    "`100,000,0-1 ... 110,000,0-1` (`99,999,9 ... 109,999,9`)"
   ]
  },
  {
   "cell_type": "markdown",
   "id": "d91f9b26",
   "metadata": {},
   "source": [
    "### Final instruction - collision with auto-calculated `stop_time`"
   ]
  },
  {
   "cell_type": "code",
   "execution_count": 7,
   "id": "d35d5522",
   "metadata": {},
   "outputs": [],
   "source": [
    "ni_streamer.clear_edit_cache()\n",
    "\n",
    "total_dur = 10.0\n",
    "instr_dur = 10e-3\n",
    "instr_num = int(total_dur // instr_dur)\n",
    "\n",
    "# Add buffer to avoid back-to-back collision\n",
    "buf = 50e-6\n",
    "\n",
    "t = 0\n",
    "for idx in range(instr_num):\n",
    "        \n",
    "    for do_chan in do_bank:\n",
    "        do_chan.high(t=t, dur=instr_dur - buf)\n",
    "        # do_chan.go_high(t=t)\n",
    "        # do_chan.go_low(t=t + instr_dur - buf)\n",
    "        \n",
    "    t += instr_dur"
   ]
  },
  {
   "cell_type": "code",
   "execution_count": 8,
   "id": "085905e6",
   "metadata": {},
   "outputs": [
    {
     "ename": "PanicException",
     "evalue": "Attempting to compile channel port1/line0 with stop_pos 99899498 while instructions end at 99899499",
     "output_type": "error",
     "traceback": [
      "\u001b[1;31m---------------------------------------------------------------------------\u001b[0m",
      "\u001b[1;31mPanicException\u001b[0m                            Traceback (most recent call last)",
      "\u001b[1;32m~\\AppData\\Local\\Temp\\ipykernel_17328\\2904825007.py\u001b[0m in \u001b[0;36m<module>\u001b[1;34m\u001b[0m\n\u001b[1;32m----> 1\u001b[1;33m \u001b[0mni_streamer\u001b[0m\u001b[1;33m.\u001b[0m\u001b[0mcompile\u001b[0m\u001b[1;33m(\u001b[0m\u001b[1;33m)\u001b[0m\u001b[1;33m\u001b[0m\u001b[1;33m\u001b[0m\u001b[0m\n\u001b[0m",
      "\u001b[1;32m~\\Software\\NI-experiment-control\\nistreamer\\nistreamer\\streamer.py\u001b[0m in \u001b[0;36mcompile\u001b[1;34m(self, stop_time)\u001b[0m\n\u001b[0;32m     92\u001b[0m     \u001b[1;32mdef\u001b[0m \u001b[0mcompile\u001b[0m\u001b[1;33m(\u001b[0m\u001b[0mself\u001b[0m\u001b[1;33m,\u001b[0m \u001b[0mstop_time\u001b[0m\u001b[1;33m:\u001b[0m \u001b[0mOptional\u001b[0m\u001b[1;33m[\u001b[0m\u001b[0mfloat\u001b[0m\u001b[1;33m]\u001b[0m \u001b[1;33m=\u001b[0m \u001b[1;32mNone\u001b[0m\u001b[1;33m)\u001b[0m \u001b[1;33m->\u001b[0m \u001b[0mfloat\u001b[0m\u001b[1;33m:\u001b[0m\u001b[1;33m\u001b[0m\u001b[1;33m\u001b[0m\u001b[0m\n\u001b[0;32m     93\u001b[0m         \u001b[1;32mif\u001b[0m \u001b[0mstop_time\u001b[0m \u001b[1;32mis\u001b[0m \u001b[1;32mNone\u001b[0m\u001b[1;33m:\u001b[0m\u001b[1;33m\u001b[0m\u001b[1;33m\u001b[0m\u001b[0m\n\u001b[1;32m---> 94\u001b[1;33m             \u001b[0mself\u001b[0m\u001b[1;33m.\u001b[0m\u001b[0m_dll\u001b[0m\u001b[1;33m.\u001b[0m\u001b[0mcompile\u001b[0m\u001b[1;33m(\u001b[0m\u001b[1;33m)\u001b[0m\u001b[1;33m\u001b[0m\u001b[1;33m\u001b[0m\u001b[0m\n\u001b[0m\u001b[0;32m     95\u001b[0m         \u001b[1;32melse\u001b[0m\u001b[1;33m:\u001b[0m\u001b[1;33m\u001b[0m\u001b[1;33m\u001b[0m\u001b[0m\n\u001b[0;32m     96\u001b[0m             \u001b[0mself\u001b[0m\u001b[1;33m.\u001b[0m\u001b[0m_dll\u001b[0m\u001b[1;33m.\u001b[0m\u001b[0mcompile_with_stoptime\u001b[0m\u001b[1;33m(\u001b[0m\u001b[0mstop_time\u001b[0m\u001b[1;33m=\u001b[0m\u001b[0mstop_time\u001b[0m\u001b[1;33m)\u001b[0m\u001b[1;33m\u001b[0m\u001b[1;33m\u001b[0m\u001b[0m\n",
      "\u001b[1;31mPanicException\u001b[0m: Attempting to compile channel port1/line0 with stop_pos 99899498 while instructions end at 99899499"
     ]
    }
   ],
   "source": [
    "ni_streamer.compile()"
   ]
  },
  {
   "cell_type": "code",
   "execution_count": null,
   "id": "738ee1a5",
   "metadata": {},
   "outputs": [],
   "source": []
  },
  {
   "cell_type": "markdown",
   "id": "4461244c",
   "metadata": {},
   "source": [
    "Previous test script version was reproducibly raising the same error but on a different channel "
   ]
  },
  {
   "cell_type": "markdown",
   "id": "e1c0e5c0",
   "metadata": {},
   "source": [
    "```Python\n",
    "ni_streamer.clear_edit_cache()\n",
    "\n",
    "total_dur = 10.0\n",
    "instr_dur = 10e-3\n",
    "instr_num = int(total_dur // instr_dur)\n",
    "\n",
    "# AO pulse settings\n",
    "amp = 0.5\n",
    "freq = 100e3\n",
    "buf = 50e-6\n",
    "\n",
    "t = 0\n",
    "for idx in range(instr_num):\n",
    "    \n",
    "#     print(f'Adding instruction {idx} ===============')\n",
    "    \n",
    "    for ao_chan in ao_bank:\n",
    "        ao_chan.sine(\n",
    "            t=t, dur=instr_dur - buf,\n",
    "            amp=amp, freq=freq\n",
    "        )\n",
    "        \n",
    "    for do_chan in do_bank:\n",
    "        do_chan.high(t=t, dur=instr_dur - buf)\n",
    "        \n",
    "    t += instr_dur\n",
    "```"
   ]
  },
  {
   "cell_type": "code",
   "execution_count": null,
   "id": "cc6db807",
   "metadata": {},
   "outputs": [],
   "source": []
  },
  {
   "cell_type": "markdown",
   "id": "306de861",
   "metadata": {},
   "source": [
    "```\n",
    "PanicException                            Traceback (most recent call last)\n",
    "~\\AppData\\Local\\Temp\\ipykernel_2384\\2904825007.py in <module>\n",
    "----> 1 ni_streamer.compile()\n",
    "\n",
    "~\\Software\\NI-experiment-control\\niexpctrl\\streamer.py in compile(self, stop_time)\n",
    "     92     def compile(self, stop_time: Optional[float] = None) -> float:\n",
    "     93         if stop_time is None:\n",
    "---> 94             self._dll.compile()\n",
    "     95         else:\n",
    "     96             self._dll.compile_with_stoptime(stop_time=stop_time)\n",
    "\n",
    "PanicException: Attempting to compile channel port2/line2 with stop_pos 99899498 while instructions end at 99899499\n",
    "```"
   ]
  },
  {
   "cell_type": "code",
   "execution_count": null,
   "id": "169bfdab",
   "metadata": {},
   "outputs": [],
   "source": []
  },
  {
   "cell_type": "code",
   "execution_count": 12,
   "id": "998a8408",
   "metadata": {},
   "outputs": [
    {
     "ename": "PanicException",
     "evalue": "Attempting to compile channel port2/line2 with stop_pos 99899498 while instructions end at 99899499",
     "output_type": "error",
     "traceback": [
      "\u001b[1;31m---------------------------------------------------------------------------\u001b[0m",
      "\u001b[1;31mPanicException\u001b[0m                            Traceback (most recent call last)",
      "\u001b[1;32m~\\AppData\\Local\\Temp\\ipykernel_2384\\2904825007.py\u001b[0m in \u001b[0;36m<module>\u001b[1;34m\u001b[0m\n\u001b[1;32m----> 1\u001b[1;33m \u001b[0mni_streamer\u001b[0m\u001b[1;33m.\u001b[0m\u001b[0mcompile\u001b[0m\u001b[1;33m(\u001b[0m\u001b[1;33m)\u001b[0m\u001b[1;33m\u001b[0m\u001b[1;33m\u001b[0m\u001b[0m\n\u001b[0m",
      "\u001b[1;32m~\\Software\\NI-experiment-control\\niexpctrl\\streamer.py\u001b[0m in \u001b[0;36mcompile\u001b[1;34m(self, stop_time)\u001b[0m\n\u001b[0;32m     92\u001b[0m     \u001b[1;32mdef\u001b[0m \u001b[0mcompile\u001b[0m\u001b[1;33m(\u001b[0m\u001b[0mself\u001b[0m\u001b[1;33m,\u001b[0m \u001b[0mstop_time\u001b[0m\u001b[1;33m:\u001b[0m \u001b[0mOptional\u001b[0m\u001b[1;33m[\u001b[0m\u001b[0mfloat\u001b[0m\u001b[1;33m]\u001b[0m \u001b[1;33m=\u001b[0m \u001b[1;32mNone\u001b[0m\u001b[1;33m)\u001b[0m \u001b[1;33m->\u001b[0m \u001b[0mfloat\u001b[0m\u001b[1;33m:\u001b[0m\u001b[1;33m\u001b[0m\u001b[1;33m\u001b[0m\u001b[0m\n\u001b[0;32m     93\u001b[0m         \u001b[1;32mif\u001b[0m \u001b[0mstop_time\u001b[0m \u001b[1;32mis\u001b[0m \u001b[1;32mNone\u001b[0m\u001b[1;33m:\u001b[0m\u001b[1;33m\u001b[0m\u001b[1;33m\u001b[0m\u001b[0m\n\u001b[1;32m---> 94\u001b[1;33m             \u001b[0mself\u001b[0m\u001b[1;33m.\u001b[0m\u001b[0m_dll\u001b[0m\u001b[1;33m.\u001b[0m\u001b[0mcompile\u001b[0m\u001b[1;33m(\u001b[0m\u001b[1;33m)\u001b[0m\u001b[1;33m\u001b[0m\u001b[1;33m\u001b[0m\u001b[0m\n\u001b[0m\u001b[0;32m     95\u001b[0m         \u001b[1;32melse\u001b[0m\u001b[1;33m:\u001b[0m\u001b[1;33m\u001b[0m\u001b[1;33m\u001b[0m\u001b[0m\n\u001b[0;32m     96\u001b[0m             \u001b[0mself\u001b[0m\u001b[1;33m.\u001b[0m\u001b[0m_dll\u001b[0m\u001b[1;33m.\u001b[0m\u001b[0mcompile_with_stoptime\u001b[0m\u001b[1;33m(\u001b[0m\u001b[0mstop_time\u001b[0m\u001b[1;33m=\u001b[0m\u001b[0mstop_time\u001b[0m\u001b[1;33m)\u001b[0m\u001b[1;33m\u001b[0m\u001b[1;33m\u001b[0m\u001b[0m\n",
      "\u001b[1;31mPanicException\u001b[0m: Attempting to compile channel port2/line2 with stop_pos 99899498 while instructions end at 99899499"
     ]
    }
   ],
   "source": [
    "ni_streamer.compile()"
   ]
  },
  {
   "cell_type": "code",
   "execution_count": null,
   "id": "94b16567",
   "metadata": {},
   "outputs": [],
   "source": []
  }
 ],
 "metadata": {
  "kernelspec": {
   "display_name": "Python 3 (ipykernel)",
   "language": "python",
   "name": "python3"
  },
  "language_info": {
   "codemirror_mode": {
    "name": "ipython",
    "version": 3
   },
   "file_extension": ".py",
   "mimetype": "text/x-python",
   "name": "python",
   "nbconvert_exporter": "python",
   "pygments_lexer": "ipython3",
   "version": "3.9.13"
  }
 },
 "nbformat": 4,
 "nbformat_minor": 5
}
