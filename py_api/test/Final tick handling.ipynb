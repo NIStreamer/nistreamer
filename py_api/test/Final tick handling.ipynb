{
 "cells": [
  {
   "cell_type": "code",
   "execution_count": 1,
   "id": "959eb20d",
   "metadata": {},
   "outputs": [],
   "source": [
    "import sys\n",
    "import os\n",
    "\n",
    "sys.path.append(os.path.join(\n",
    "    r'C:\\Users\\AA2-PC2\\Software\\NI-experiment-control - Atom Array\\nistreamer'\n",
    "))"
   ]
  },
  {
   "cell_type": "code",
   "execution_count": 2,
   "id": "df49a38e",
   "metadata": {},
   "outputs": [],
   "source": [
    "from nistreamer.streamer import NIStreamer\n",
    "from nistreamer.utils import iplot, RendOption"
   ]
  },
  {
   "cell_type": "markdown",
   "id": "79fdc6cd",
   "metadata": {
    "tags": []
   },
   "source": [
    "### Setup cards"
   ]
  },
  {
   "cell_type": "code",
   "execution_count": 3,
   "id": "ae62050b",
   "metadata": {
    "hidden": true
   },
   "outputs": [],
   "source": [
    "nistrm = NIStreamer()"
   ]
  },
  {
   "cell_type": "code",
   "execution_count": 4,
   "id": "3fc95afb",
   "metadata": {
    "hidden": true
   },
   "outputs": [],
   "source": [
    "TRIG_LINE = 'RTSI0'\n",
    "REF_CLK_LINE = 'RTSI7'"
   ]
  },
  {
   "cell_type": "code",
   "execution_count": 5,
   "id": "d18495cb",
   "metadata": {
    "hidden": true
   },
   "outputs": [],
   "source": [
    "ao_card = nistrm.add_ao_card('Dev2', samp_rate=1e6)\n",
    "\n",
    "ao_card.cfg_start_trig(line=TRIG_LINE, export=True)\n",
    "ao_card.cfg_ref_clk(line=REF_CLK_LINE, export=True)"
   ]
  },
  {
   "cell_type": "code",
   "execution_count": 6,
   "id": "45d61cfe",
   "metadata": {
    "hidden": true
   },
   "outputs": [],
   "source": [
    "mf_card = nistrm.add_ao_card('Dev3', samp_rate=1e6)\n",
    "\n",
    "mf_card.cfg_start_trig(line=TRIG_LINE)\n",
    "mf_card.cfg_ref_clk(line=REF_CLK_LINE)"
   ]
  },
  {
   "cell_type": "code",
   "execution_count": 7,
   "id": "7d6d7831",
   "metadata": {
    "hidden": true
   },
   "outputs": [
    {
     "data": {
      "text/plain": [
       "Channel ao0 on card Dev3"
      ]
     },
     "execution_count": 7,
     "metadata": {},
     "output_type": "execute_result"
    }
   ],
   "source": [
    "ao_card.add_chan(chan_idx=0)\n",
    "mf_card.add_chan(chan_idx=0)"
   ]
  },
  {
   "cell_type": "code",
   "execution_count": null,
   "id": "866cb145",
   "metadata": {
    "hidden": true
   },
   "outputs": [],
   "source": [
    "nistrm.reset_all()"
   ]
  },
  {
   "cell_type": "markdown",
   "id": "d3c1a973-93f3-4724-8520-1fe758fc9cc9",
   "metadata": {
    "heading_collapsed": "true",
    "tags": []
   },
   "source": [
    "### Closing edge / keep value for final pulse"
   ]
  },
  {
   "cell_type": "markdown",
   "id": "caa2706d-2601-4b28-99d3-46e8a9037eb4",
   "metadata": {
    "heading_collapsed": "true",
    "tags": []
   },
   "source": [
    "#### Finite-duration pulse"
   ]
  },
  {
   "cell_type": "code",
   "execution_count": 15,
   "id": "5676aacf-15a9-462c-bfe3-04246532d952",
   "metadata": {},
   "outputs": [
    {
     "name": "stdout",
     "output_type": "stream",
     "text": [
      "0.001001\n"
     ]
    }
   ],
   "source": [
    "# Closing edge forming - const pulse\n",
    "\n",
    "nistrm.clear_edit_cache()\n",
    "\n",
    "ao_card['ao0'].constant(t=0.0, dur=1e-3, val=1.0)\n",
    "mf_card['ao0'].constant(t=0.0, dur=1e-3, val=1.0)\n",
    "\n",
    "print(nistrm.compile())\n",
    "nistrm.stream_exp()"
   ]
  },
  {
   "cell_type": "code",
   "execution_count": 50,
   "id": "c1c4b9ab-8596-4ce0-840c-7f13429cf5a3",
   "metadata": {},
   "outputs": [
    {
     "name": "stdout",
     "output_type": "stream",
     "text": [
      "0.001001\n"
     ]
    }
   ],
   "source": [
    "# Closing edge forming - sine pulse\n",
    "\n",
    "import numpy as np\n",
    "\n",
    "nistrm.clear_edit_cache()\n",
    "\n",
    "ao_card['ao0'].sine(t=0.0, dur=1e-3, amp=1.0, freq=10e3, phase=0.5*np.pi)\n",
    "mf_card['ao0'].sine(t=0.0, dur=1e-3, amp=1.0, freq=10e3, phase=0.5*np.pi)\n",
    "\n",
    "print(nistrm.compile())\n",
    "nistrm.stream_exp()"
   ]
  },
  {
   "cell_type": "code",
   "execution_count": 51,
   "id": "63fc38b5-e3dd-41be-8aa9-743681ee99be",
   "metadata": {},
   "outputs": [
    {
     "name": "stdout",
     "output_type": "stream",
     "text": [
      "0.001001\n"
     ]
    }
   ],
   "source": [
    "# keep_val = True\n",
    "\n",
    "import numpy as np\n",
    "\n",
    "nistrm.clear_edit_cache()\n",
    "\n",
    "ao_card['ao0'].sine(t=0.0, dur=1e-3, amp=1.0, freq=10e3, phase=0.5*np.pi, keep_val=True)\n",
    "mf_card['ao0'].sine(t=0.0, dur=1e-3, amp=1.0, freq=10e3, phase=0.5*np.pi, keep_val=True)\n",
    "\n",
    "print(nistrm.compile())\n",
    "nistrm.stream_exp()"
   ]
  },
  {
   "cell_type": "code",
   "execution_count": 70,
   "id": "9d2cd57c-a7b1-44f7-ab56-0209748f2e4c",
   "metadata": {},
   "outputs": [
    {
     "name": "stdout",
     "output_type": "stream",
     "text": [
      "0.002\n"
     ]
    }
   ],
   "source": [
    "# stop_time=2e-3 - should give precise total run time of 2 ms\n",
    "\n",
    "import numpy as np\n",
    "\n",
    "nistrm.clear_edit_cache()\n",
    "\n",
    "ao_card['ao0'].sine(t=0.0, dur=1e-3, amp=1.0, freq=10e3, phase=0.5*np.pi, keep_val=True)\n",
    "mf_card['ao0'].sine(t=0.0, dur=1e-3, amp=1.0, freq=10e3, phase=0.5*np.pi, keep_val=True)\n",
    "\n",
    "print(nistrm.compile(2e-3))\n",
    "nistrm.stream_exp()"
   ]
  },
  {
   "cell_type": "markdown",
   "id": "7cc0ae10-0f6c-4ae0-be70-b60ee6737bc9",
   "metadata": {
    "heading_collapsed": "true",
    "tags": []
   },
   "source": [
    "#### \"Go-something\" pulse"
   ]
  },
  {
   "cell_type": "code",
   "execution_count": 104,
   "id": "2060fb04-1f31-4bb8-93ca-61bd6c2ce2b6",
   "metadata": {},
   "outputs": [],
   "source": [
    "nistrm.reset_all()"
   ]
  },
  {
   "cell_type": "code",
   "execution_count": 89,
   "id": "84960df4-3f25-4a84-a535-fafe031c8793",
   "metadata": {},
   "outputs": [
    {
     "name": "stdout",
     "output_type": "stream",
     "text": [
      "2e-06\n"
     ]
    }
   ],
   "source": [
    "# To avoid 1-sample error (min for NI cards is 2), either start pulse at 1us\n",
    "nistrm.clear_edit_cache()\n",
    "\n",
    "ao_card['ao0'].go_constant(t=1e-6, val=1.0)\n",
    "mf_card['ao0'].go_constant(t=1e-6, val=1.0)\n",
    "\n",
    "print(nistrm.compile())\n",
    "nistrm.stream_exp()"
   ]
  },
  {
   "cell_type": "code",
   "execution_count": 86,
   "id": "e3ec6612-908d-494d-82a0-fa26af644a7d",
   "metadata": {},
   "outputs": [
    {
     "name": "stdout",
     "output_type": "stream",
     "text": [
      "2e-06\n"
     ]
    }
   ],
   "source": [
    "# To avoid 1-sample error (min for NI cards is 2), or compile with stop_time = 2us\n",
    "nistrm.clear_edit_cache()\n",
    "\n",
    "ao_card['ao0'].go_constant(t=0, val=1.0)\n",
    "mf_card['ao0'].go_constant(t=0, val=1.0)\n",
    "\n",
    "print(nistrm.compile(2e-6))\n",
    "nistrm.stream_exp()"
   ]
  },
  {
   "cell_type": "code",
   "execution_count": 103,
   "id": "19754337-d626-443e-85e3-76632341f248",
   "metadata": {},
   "outputs": [
    {
     "name": "stdout",
     "output_type": "stream",
     "text": [
      "0.001\n"
     ]
    }
   ],
   "source": [
    "nistrm.clear_edit_cache()\n",
    "\n",
    "ao_card['ao0'].go_sine(t=0, amp=1.0, freq=10e3, phase=0.12345*np.pi)\n",
    "mf_card['ao0'].go_sine(t=0, amp=1.0, freq=10e3, phase=0.12345*np.pi)\n",
    "\n",
    "print(nistrm.compile(1e-3))\n",
    "nistrm.stream_exp()"
   ]
  },
  {
   "cell_type": "code",
   "execution_count": null,
   "id": "408db369-aba3-477e-8356-ea9ec6c04991",
   "metadata": {},
   "outputs": [],
   "source": []
  },
  {
   "cell_type": "markdown",
   "id": "4b992d6a-88c7-492d-b5a8-eed18b4f924c",
   "metadata": {
    "heading_collapsed": "true",
    "tags": []
   },
   "source": [
    "### `add_reset_instr()`"
   ]
  },
  {
   "cell_type": "code",
   "execution_count": 123,
   "id": "7f0c7527-91e4-4b11-8c87-26c5e80cba6b",
   "metadata": {},
   "outputs": [
    {
     "name": "stdout",
     "output_type": "stream",
     "text": [
      "0.0020009999999999997\n"
     ]
    }
   ],
   "source": [
    "nistrm.clear_edit_cache()\n",
    "\n",
    "ao_card['ao0'].sine(t=1.0e-3, dur=1.0e-3, amp=1.0, freq=1.2e3, keep_val=True)  # constant(t=1.0e-3, dur=1.0e-3, val=1.0)\n",
    "mf_card['ao0'].go_constant(t=0, val=1.0)\n",
    "nistrm.add_reset_instr()\n",
    "\n",
    "print(nistrm.compile())\n",
    "nistrm.stream_exp()"
   ]
  },
  {
   "cell_type": "code",
   "execution_count": 124,
   "id": "9e40b8c5-87df-4b7a-9c45-af61f7994375",
   "metadata": {},
   "outputs": [
    {
     "name": "stdout",
     "output_type": "stream",
     "text": [
      "0.0030009999999999998\n"
     ]
    }
   ],
   "source": [
    "nistrm.clear_edit_cache()\n",
    "\n",
    "ao_card['ao0'].sine(t=1.0e-3, dur=1.0e-3, amp=1.0, freq=1.2e3, keep_val=True)\n",
    "mf_card['ao0'].go_constant(t=0, val=1.0)\n",
    "nistrm.add_reset_instr(3e-3)\n",
    "\n",
    "print(nistrm.compile())\n",
    "nistrm.stream_exp()"
   ]
  },
  {
   "cell_type": "code",
   "execution_count": 121,
   "id": "02551df5-66bf-4f27-b4ec-efb881780c75",
   "metadata": {},
   "outputs": [
    {
     "name": "stdout",
     "output_type": "stream",
     "text": [
      "0.0030009999999999998\n"
     ]
    }
   ],
   "source": [
    "nistrm.clear_edit_cache()\n",
    "\n",
    "ao_card['ao0'].go_sine(t=1.0e-3, amp=1.0, freq=1.2e3)\n",
    "mf_card['ao0'].go_constant(t=0, val=1.0)\n",
    "nistrm.add_reset_instr(3e-3)\n",
    "\n",
    "print(nistrm.compile())\n",
    "nistrm.stream_exp()"
   ]
  },
  {
   "cell_type": "code",
   "execution_count": null,
   "id": "1ff3e01e",
   "metadata": {},
   "outputs": [],
   "source": []
  }
 ],
 "metadata": {
  "kernelspec": {
   "display_name": "Python 3",
   "language": "python",
   "name": "python3"
  },
  "language_info": {
   "codemirror_mode": {
    "name": "ipython",
    "version": 3
   },
   "file_extension": ".py",
   "mimetype": "text/x-python",
   "name": "python",
   "nbconvert_exporter": "python",
   "pygments_lexer": "ipython3",
   "version": "3.8.8"
  }
 },
 "nbformat": 4,
 "nbformat_minor": 5
}
