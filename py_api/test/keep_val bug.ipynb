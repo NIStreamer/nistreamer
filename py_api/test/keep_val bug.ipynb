{
 "cells": [
  {
   "cell_type": "code",
   "execution_count": 1,
   "id": "c2c470b9",
   "metadata": {},
   "outputs": [],
   "source": [
    "import sys\n",
    "import os\n",
    "\n",
    "sys.path.append(os.path.join(\n",
    "    r'C:\\Users\\AA2-ControlPC\\Software\\NI-experiment-control\\nistreamer'\n",
    "))"
   ]
  },
  {
   "cell_type": "code",
   "execution_count": 3,
   "id": "cde527a2",
   "metadata": {},
   "outputs": [],
   "source": [
    "from nistreamer.streamer import NIStreamer\n",
    "from nistreamer.utils import iplot"
   ]
  },
  {
   "cell_type": "code",
   "execution_count": 4,
   "id": "4bd691e9",
   "metadata": {},
   "outputs": [],
   "source": [
    "ni_streamer = NIStreamer()\n",
    "\n",
    "ao_card = ni_streamer.add_ao_card(max_name='PXI1Slot3', samp_rate=1e6)\n",
    "my_ao = ao_card.add_chan(chan_idx=0)"
   ]
  },
  {
   "cell_type": "code",
   "execution_count": 72,
   "id": "3ddde6bb",
   "metadata": {},
   "outputs": [
    {
     "data": {
      "text/plain": [
       "0.5"
      ]
     },
     "execution_count": 72,
     "metadata": {},
     "output_type": "execute_result"
    }
   ],
   "source": [
    "ni_streamer.clear_edit_cache()\n",
    "\n",
    "# Instr 1\n",
    "my_ao.constant(t=1, dur=1, val=0.5)\n",
    "\n",
    "# Instr 2\n",
    "my_ao.sine(\n",
    "    t=3, dur=1,\n",
    "    amp=1.0, freq=10.12345678, phase=1.23,\n",
    "    keep_val=False\n",
    ")\n",
    "\n",
    "# Instr 3\n",
    "my_ao.constant(t=5, dur=1, val=1.5, keep_val=False)\n",
    "\n",
    "# Instr 4\n",
    "my_ao.constant(t=6.5, dur=0.5, val=2.0, keep_val=False)"
   ]
  },
  {
   "cell_type": "code",
   "execution_count": 51,
   "id": "0f0ae0a4",
   "metadata": {},
   "outputs": [],
   "source": [
    "iplot(\n",
    "    chan_list=[my_ao]\n",
    ")"
   ]
  },
  {
   "cell_type": "code",
   "execution_count": 81,
   "id": "3f85a610",
   "metadata": {},
   "outputs": [
    {
     "data": {
      "text/plain": [
       "7.0"
      ]
     },
     "execution_count": 81,
     "metadata": {},
     "output_type": "execute_result"
    }
   ],
   "source": [
    "ni_streamer.compile()"
   ]
  },
  {
   "cell_type": "code",
   "execution_count": 83,
   "id": "bd6aa266",
   "metadata": {},
   "outputs": [
    {
     "data": {
      "text/plain": [
       "7.5"
      ]
     },
     "execution_count": 83,
     "metadata": {},
     "output_type": "execute_result"
    }
   ],
   "source": [
    "ni_streamer.compile(stop_time=7.5)"
   ]
  },
  {
   "cell_type": "code",
   "execution_count": 84,
   "id": "748fb5d6",
   "metadata": {},
   "outputs": [],
   "source": [
    "ni_streamer.stream_exp()"
   ]
  },
  {
   "cell_type": "code",
   "execution_count": 78,
   "id": "99063581",
   "metadata": {},
   "outputs": [],
   "source": [
    "ni_streamer.reset_all()"
   ]
  },
  {
   "cell_type": "code",
   "execution_count": null,
   "id": "821f60c3",
   "metadata": {},
   "outputs": [],
   "source": []
  }
 ],
 "metadata": {
  "kernelspec": {
   "display_name": "Python 3 (ipykernel)",
   "language": "python",
   "name": "python3"
  },
  "language_info": {
   "codemirror_mode": {
    "name": "ipython",
    "version": 3
   },
   "file_extension": ".py",
   "mimetype": "text/x-python",
   "name": "python",
   "nbconvert_exporter": "python",
   "pygments_lexer": "ipython3",
   "version": "3.9.13"
  }
 },
 "nbformat": 4,
 "nbformat_minor": 5
}
